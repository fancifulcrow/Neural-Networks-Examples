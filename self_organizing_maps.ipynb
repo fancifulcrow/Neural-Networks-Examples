{
  "cells": [
    {
      "cell_type": "markdown",
      "metadata": {},
      "source": [
        "# Self Organizing Maps"
      ]
    },
    {
      "cell_type": "markdown",
      "metadata": {},
      "source": [
        "## Setup and Context"
      ]
    },
    {
      "cell_type": "markdown",
      "metadata": {},
      "source": [
        "### Introduction"
      ]
    },
    {
      "cell_type": "markdown",
      "metadata": {},
      "source": [
        "A Self Organizing Map (SOM) is an unsupervised machine learning technique used to produce a low-dimensional (typically two-dimensional) representation of a higher-dimensional data set while preserving the topological structure of the data. \n",
        "\n",
        "Imagine you have a grid, and each point on this grid represents a neuron in the SOM. Initially, the SOM is unorganized, with random values assigned to each neuron.\n",
        "\n",
        "During the learning process, SOMs adjust these neuron values to better represent the input data. Here's where the magic happens: instead of having explicit rules for learning like other neural networks, SOMs learn through competition and cooperation. When presented with an input, the neuron closest to the input becomes the **winning node** and it and its neighboring neurons adjust their values to better represent that input. This process is repeated for each input, gradually organizing the neurons into clusters that capture the structure of the input data.\n",
        "\n",
        "After training, the SOM forms a low-dimensional map of the input space, where similar inputs are mapped close to each other on the grid. This makes SOMs powerful tools for data visualization and exploratory data analysis. They can uncover patterns and relationships in complex data sets, aiding in tasks like clustering, classification, and dimensionality reduction. Moreover, SOMs are inherently robust to noise and can handle high-dimensional data efficiently, making them versatile tools in various fields such as data mining, pattern recognition, and even in modeling biological neural networks.\n",
        "\n",
        "The following is an example of a Self Organizing Map."
      ]
    },
    {
      "cell_type": "markdown",
      "metadata": {},
      "source": [
        "### Import Statements"
      ]
    },
    {
      "cell_type": "code",
      "execution_count": 1,
      "metadata": {},
      "outputs": [],
      "source": [
        "import pandas as pd\n",
        "import numpy as np\n",
        "import matplotlib.pyplot as plt\n",
        "\n",
        "from sklearn.preprocessing import MinMaxScaler\n",
        "from minisom import MiniSom\n",
        "\n",
        "import pylab"
      ]
    },
    {
      "cell_type": "markdown",
      "metadata": {},
      "source": [
        "## Data Preprocessing"
      ]
    },
    {
      "cell_type": "markdown",
      "metadata": {},
      "source": [
        "### Load the Data"
      ]
    },
    {
      "cell_type": "markdown",
      "metadata": {},
      "source": [
        "The dataset used is a cleaned version of the [UCI Credit Card Approval Dataset](https://archive.ics.uci.edu/dataset/27/credit+approval). Due to confidentiality issues, background information about the data is not provided."
      ]
    },
    {
      "cell_type": "code",
      "execution_count": 2,
      "metadata": {},
      "outputs": [],
      "source": [
        "dataset = pd.read_csv(\"./data/Credit_Card_Applications.csv\")"
      ]
    },
    {
      "cell_type": "code",
      "execution_count": 3,
      "metadata": {},
      "outputs": [
        {
          "data": {
            "text/html": [
              "<div>\n",
              "<style scoped>\n",
              "    .dataframe tbody tr th:only-of-type {\n",
              "        vertical-align: middle;\n",
              "    }\n",
              "\n",
              "    .dataframe tbody tr th {\n",
              "        vertical-align: top;\n",
              "    }\n",
              "\n",
              "    .dataframe thead th {\n",
              "        text-align: right;\n",
              "    }\n",
              "</style>\n",
              "<table border=\"1\" class=\"dataframe\">\n",
              "  <thead>\n",
              "    <tr style=\"text-align: right;\">\n",
              "      <th></th>\n",
              "      <th>CustomerID</th>\n",
              "      <th>A1</th>\n",
              "      <th>A2</th>\n",
              "      <th>A3</th>\n",
              "      <th>A4</th>\n",
              "      <th>A5</th>\n",
              "      <th>A6</th>\n",
              "      <th>A7</th>\n",
              "      <th>A8</th>\n",
              "      <th>A9</th>\n",
              "      <th>A10</th>\n",
              "      <th>A11</th>\n",
              "      <th>A12</th>\n",
              "      <th>A13</th>\n",
              "      <th>A14</th>\n",
              "      <th>Class</th>\n",
              "    </tr>\n",
              "  </thead>\n",
              "  <tbody>\n",
              "    <tr>\n",
              "      <th>0</th>\n",
              "      <td>15776156</td>\n",
              "      <td>1</td>\n",
              "      <td>22.08</td>\n",
              "      <td>11.46</td>\n",
              "      <td>2</td>\n",
              "      <td>4</td>\n",
              "      <td>4</td>\n",
              "      <td>1.585</td>\n",
              "      <td>0</td>\n",
              "      <td>0</td>\n",
              "      <td>0</td>\n",
              "      <td>1</td>\n",
              "      <td>2</td>\n",
              "      <td>100</td>\n",
              "      <td>1213</td>\n",
              "      <td>0</td>\n",
              "    </tr>\n",
              "    <tr>\n",
              "      <th>1</th>\n",
              "      <td>15739548</td>\n",
              "      <td>0</td>\n",
              "      <td>22.67</td>\n",
              "      <td>7.00</td>\n",
              "      <td>2</td>\n",
              "      <td>8</td>\n",
              "      <td>4</td>\n",
              "      <td>0.165</td>\n",
              "      <td>0</td>\n",
              "      <td>0</td>\n",
              "      <td>0</td>\n",
              "      <td>0</td>\n",
              "      <td>2</td>\n",
              "      <td>160</td>\n",
              "      <td>1</td>\n",
              "      <td>0</td>\n",
              "    </tr>\n",
              "    <tr>\n",
              "      <th>2</th>\n",
              "      <td>15662854</td>\n",
              "      <td>0</td>\n",
              "      <td>29.58</td>\n",
              "      <td>1.75</td>\n",
              "      <td>1</td>\n",
              "      <td>4</td>\n",
              "      <td>4</td>\n",
              "      <td>1.250</td>\n",
              "      <td>0</td>\n",
              "      <td>0</td>\n",
              "      <td>0</td>\n",
              "      <td>1</td>\n",
              "      <td>2</td>\n",
              "      <td>280</td>\n",
              "      <td>1</td>\n",
              "      <td>0</td>\n",
              "    </tr>\n",
              "    <tr>\n",
              "      <th>3</th>\n",
              "      <td>15687688</td>\n",
              "      <td>0</td>\n",
              "      <td>21.67</td>\n",
              "      <td>11.50</td>\n",
              "      <td>1</td>\n",
              "      <td>5</td>\n",
              "      <td>3</td>\n",
              "      <td>0.000</td>\n",
              "      <td>1</td>\n",
              "      <td>1</td>\n",
              "      <td>11</td>\n",
              "      <td>1</td>\n",
              "      <td>2</td>\n",
              "      <td>0</td>\n",
              "      <td>1</td>\n",
              "      <td>1</td>\n",
              "    </tr>\n",
              "    <tr>\n",
              "      <th>4</th>\n",
              "      <td>15715750</td>\n",
              "      <td>1</td>\n",
              "      <td>20.17</td>\n",
              "      <td>8.17</td>\n",
              "      <td>2</td>\n",
              "      <td>6</td>\n",
              "      <td>4</td>\n",
              "      <td>1.960</td>\n",
              "      <td>1</td>\n",
              "      <td>1</td>\n",
              "      <td>14</td>\n",
              "      <td>0</td>\n",
              "      <td>2</td>\n",
              "      <td>60</td>\n",
              "      <td>159</td>\n",
              "      <td>1</td>\n",
              "    </tr>\n",
              "  </tbody>\n",
              "</table>\n",
              "</div>"
            ],
            "text/plain": [
              "   CustomerID  A1     A2     A3  A4  A5  A6     A7  A8  A9  A10  A11  A12  \\\n",
              "0    15776156   1  22.08  11.46   2   4   4  1.585   0   0    0    1    2   \n",
              "1    15739548   0  22.67   7.00   2   8   4  0.165   0   0    0    0    2   \n",
              "2    15662854   0  29.58   1.75   1   4   4  1.250   0   0    0    1    2   \n",
              "3    15687688   0  21.67  11.50   1   5   3  0.000   1   1   11    1    2   \n",
              "4    15715750   1  20.17   8.17   2   6   4  1.960   1   1   14    0    2   \n",
              "\n",
              "   A13   A14  Class  \n",
              "0  100  1213      0  \n",
              "1  160     1      0  \n",
              "2  280     1      0  \n",
              "3    0     1      1  \n",
              "4   60   159      1  "
            ]
          },
          "execution_count": 3,
          "metadata": {},
          "output_type": "execute_result"
        }
      ],
      "source": [
        "dataset.head()"
      ]
    },
    {
      "cell_type": "markdown",
      "metadata": {},
      "source": [
        "The purpose of this Self Organizing Map is to identify frauds.\n",
        "\n",
        "Potential frauds here are assumed to be **outliers**. So with this context, potential frauds are the outlying neurons in our two dimensional Self Organizing Map. To detect the outlying neurons we use the **Mean Interneuron Distance (MID)**. The Mean Interneuron Distance measures the average distance between a neuron and its neighbors on the SOM grid. A lower MID indicates denser clustering, reflecting better organization of the input data. So if the MID is high, the node can be consider for fraud. Then, we use an **inverse mapping function** to find out which customers originally in the input, are associated with the winning node, that is an outlier."
      ]
    },
    {
      "cell_type": "markdown",
      "metadata": {},
      "source": [
        "### Splitting the Dataset into two Subsets"
      ]
    },
    {
      "cell_type": "markdown",
      "metadata": {},
      "source": [
        "We want to split the dataset into two subsets: One containing all the variables from CustomerID to Attribute 14 and the other containing the Class column (0 means the application was rejected and 1 means the application was approved).We are doing this so that we can clearly distinguish between customers who were approved and customers who were rejected on the Self Organizing Map.\n",
        "\n",
        "If you notice, we included the CustomerID. By including the customerID, it becomes easier to track individual customers within the SOM."
      ]
    },
    {
      "cell_type": "code",
      "execution_count": 4,
      "metadata": {},
      "outputs": [],
      "source": [
        "X = dataset.iloc[:, :-1].values\n",
        "y = dataset.iloc[:, -1].values"
      ]
    },
    {
      "cell_type": "markdown",
      "metadata": {},
      "source": [
        "Even though we spilt the data into X and y, we are not doing it to train our model. Remember that, this is an Unsupervised Machine Learning technique. We are doing this only to identify approved and rejected customers. The dependent variable is not included in the training process."
      ]
    },
    {
      "cell_type": "markdown",
      "metadata": {},
      "source": [
        "### Feature Scaling"
      ]
    },
    {
      "cell_type": "markdown",
      "metadata": {},
      "source": [
        "Feature scaling is almost always compulsory in Deep Learning. Here we will be using Normalization."
      ]
    },
    {
      "cell_type": "code",
      "execution_count": 5,
      "metadata": {},
      "outputs": [],
      "source": [
        "sc = MinMaxScaler(feature_range=(0, 1))\n",
        "\n",
        "X = sc.fit_transform(X)"
      ]
    },
    {
      "cell_type": "markdown",
      "metadata": {},
      "source": [
        "## Building the SOM"
      ]
    },
    {
      "cell_type": "markdown",
      "metadata": {},
      "source": [
        "### Initializing the SOM"
      ]
    },
    {
      "cell_type": "markdown",
      "metadata": {},
      "source": [
        "We are going to use a numpy based implementation of an Self Organizing Map called [minisom](https://github.com/JustGlowing/minisom). With this, we create a `MiniSom` class and initialize the dimensions of our SOM map `x` and `y`, the number of features in the input data, `input_len`, the radius of the different neighborhoods in the grid, `sigma` and the learning rate, `learning_rate`."
      ]
    },
    {
      "cell_type": "code",
      "execution_count": 6,
      "metadata": {},
      "outputs": [],
      "source": [
        "som = MiniSom(x=10, y=10, input_len=15, sigma=1.0, learning_rate=0.1)"
      ]
    },
    {
      "cell_type": "markdown",
      "metadata": {},
      "source": [
        "Next we initialize the weights of our SOM."
      ]
    },
    {
      "cell_type": "code",
      "execution_count": 7,
      "metadata": {},
      "outputs": [],
      "source": [
        "som.random_weights_init(X)"
      ]
    },
    {
      "cell_type": "markdown",
      "metadata": {},
      "source": [
        "### Training the SOM"
      ]
    },
    {
      "cell_type": "markdown",
      "metadata": {},
      "source": [
        "Now we train the SOM."
      ]
    },
    {
      "cell_type": "code",
      "execution_count": 8,
      "metadata": {},
      "outputs": [],
      "source": [
        "som.train_random(X, num_iteration=100)"
      ]
    },
    {
      "cell_type": "markdown",
      "metadata": {},
      "source": [
        "## Identifying the Outliers"
      ]
    },
    {
      "cell_type": "markdown",
      "metadata": {},
      "source": [
        "### Visualizing the SOM"
      ]
    },
    {
      "cell_type": "markdown",
      "metadata": {},
      "source": [
        "Let us see a visual representation of our SOM. We are putting the different winning nodes on the map. The different colors correspond to the different range values of the Mean Interneuron Distances. The lighter the color, the larger the Mean Interneuron Distance.\n",
        "\n",
        "We also want to see where all the approved and rejected customers fit on the SOM."
      ]
    },
    {
      "cell_type": "code",
      "execution_count": 9,
      "metadata": {},
      "outputs": [
        {
          "data": {
            "image/png": "[encoded data removed]",
            "text/plain": [
              "<Figure size 1600x900 with 2 Axes>"
            ]
          },
          "metadata": {},
          "output_type": "display_data"
        }
      ],
      "source": [
        "plt.figure(figsize=(16, 9))\n",
        "\n",
        "pylab.bone()\n",
        "\n",
        "pylab.pcolor(som.distance_map().T)\n",
        "pylab.colorbar()\n",
        "\n",
        "# \"x\" represent rejected customers and \"o\" represents approved customers\n",
        "markers = [\"x\", \"o\"]\n",
        "colors = [\"r\", \"g\"]\n",
        "\n",
        "for i, x in enumerate(X):\n",
        "    w = som.winner(x)\n",
        "    pylab.plot(w[0] + 0.5, w[1] + 0.5, \n",
        "               markers[y[i]], \n",
        "               markeredgecolor=colors[y[i]],\n",
        "               markerfacecolor=None,\n",
        "               markersize=10,\n",
        "               markeredgewidth=2)\n",
        "    \n",
        "pylab.show()"
      ]
    },
    {
      "cell_type": "markdown",
      "metadata": {},
      "source": [
        "### Finding the Individual Outliers"
      ]
    },
    {
      "cell_type": "markdown",
      "metadata": {},
      "source": [
        "Firstly, we get the mapping of the winning nodes to the customers."
      ]
    },
    {
      "cell_type": "code",
      "execution_count": 10,
      "metadata": {},
      "outputs": [],
      "source": [
        "mappings = som.win_map(X)"
      ]
    },
    {
      "cell_type": "markdown",
      "metadata": {},
      "source": [
        "The outliers are in the lighter areas. Some of these areas are the coordinates (3, 8) and (7, 1)."
      ]
    },
    {
      "cell_type": "code",
      "execution_count": 11,
      "metadata": {},
      "outputs": [
        {
          "data": {
            "text/plain": [
              "array([[8.99134662e-01, 0.00000000e+00, 7.77443609e-02, 3.21428571e-01,\n",
              "        5.00000000e-01, 3.84615385e-01, 3.75000000e-01, 2.63157895e-02,\n",
              "        1.00000000e+00, 1.00000000e+00, 2.98507463e-02, 0.00000000e+00,\n",
              "        5.00000000e-01, 4.40000000e-02, 5.91000000e-03],\n",
              "       [7.32145646e-01, 0.00000000e+00, 2.54436090e-01, 4.28571429e-01,\n",
              "        5.00000000e-01, 5.38461538e-01, 3.75000000e-01, 7.01754386e-02,\n",
              "        1.00000000e+00, 1.00000000e+00, 1.49253731e-02, 0.00000000e+00,\n",
              "        5.00000000e-01, 1.10000000e-01, 1.90000000e-04],\n",
              "       [7.67844343e-01, 0.00000000e+00, 5.87669173e-01, 5.35714286e-01,\n",
              "        5.00000000e-01, 5.38461538e-01, 3.75000000e-01, 1.92982456e-01,\n",
              "        1.00000000e+00, 1.00000000e+00, 2.08955224e-01, 0.00000000e+00,\n",
              "        5.00000000e-01, 0.00000000e+00, 2.20000000e-02],\n",
              "       [9.43931221e-01, 0.00000000e+00, 3.30827068e-01, 3.26785714e-02,\n",
              "        5.00000000e-01, 3.84615385e-01, 3.75000000e-01, 2.63157895e-02,\n",
              "        1.00000000e+00, 1.00000000e+00, 5.97014925e-02, 0.00000000e+00,\n",
              "        5.00000000e-01, 0.00000000e+00, 1.58300000e-02],\n",
              "       [1.00000000e+00, 0.00000000e+00, 6.51578947e-01, 6.96428571e-01,\n",
              "        5.00000000e-01, 5.38461538e-01, 3.75000000e-01, 1.92982456e-01,\n",
              "        1.00000000e+00, 1.00000000e+00, 1.04477612e-01, 0.00000000e+00,\n",
              "        5.00000000e-01, 0.00000000e+00, 3.00000000e-02],\n",
              "       [8.90633447e-01, 0.00000000e+00, 2.36842105e-01, 1.64285714e-02,\n",
              "        5.00000000e-01, 2.30769231e-01, 3.75000000e-01, 1.89473684e-02,\n",
              "        1.00000000e+00, 1.00000000e+00, 5.97014925e-02, 0.00000000e+00,\n",
              "        5.00000000e-01, 1.90000000e-01, 5.00000000e-03],\n",
              "       [5.37578735e-01, 0.00000000e+00, 7.56842105e-01, 5.89285714e-03,\n",
              "        5.00000000e-01, 0.00000000e+00, 0.00000000e+00, 0.00000000e+00,\n",
              "        1.00000000e+00, 1.00000000e+00, 1.49253731e-02, 0.00000000e+00,\n",
              "        5.00000000e-01, 1.16000000e-01, 1.00000000e-03],\n",
              "       [8.25462802e-01, 0.00000000e+00, 1.61654135e-01, 4.55357143e-01,\n",
              "        5.00000000e-01, 5.38461538e-01, 5.00000000e-01, 1.66666667e-01,\n",
              "        1.00000000e+00, 1.00000000e+00, 2.98507463e-02, 0.00000000e+00,\n",
              "        5.00000000e-01, 3.65000000e-02, 4.44000000e-03],\n",
              "       [5.22858779e-01, 0.00000000e+00, 6.71729323e-01, 7.50000000e-01,\n",
              "        5.00000000e-01, 1.53846154e-01, 5.00000000e-01, 3.50877193e-01,\n",
              "        1.00000000e+00, 1.00000000e+00, 1.94029851e-01, 0.00000000e+00,\n",
              "        5.00000000e-01, 0.00000000e+00, 6.70000000e-02],\n",
              "       [5.32717466e-01, 0.00000000e+00, 6.42857143e-01, 5.71428571e-01,\n",
              "        5.00000000e-01, 3.07692308e-01, 0.00000000e+00, 0.00000000e+00,\n",
              "        1.00000000e+00, 1.00000000e+00, 2.23880597e-01, 0.00000000e+00,\n",
              "        5.00000000e-01, 0.00000000e+00, 2.47000000e-03],\n",
              "       [7.97372352e-01, 0.00000000e+00, 1.00300752e-01, 2.67857143e-01,\n",
              "        5.00000000e-01, 2.30769231e-01, 3.75000000e-01, 5.26315789e-02,\n",
              "        1.00000000e+00, 1.00000000e+00, 1.49253731e-02, 0.00000000e+00,\n",
              "        5.00000000e-01, 8.00000000e-02, 2.34000000e-03],\n",
              "       [7.32534067e-01, 0.00000000e+00, 1.12781955e-01, 8.33928571e-02,\n",
              "        5.00000000e-01, 1.53846154e-01, 5.00000000e-01, 1.75438596e-02,\n",
              "        1.00000000e+00, 1.00000000e+00, 5.97014925e-02, 0.00000000e+00,\n",
              "        0.00000000e+00, 4.00000000e-02, 0.00000000e+00],\n",
              "       [6.56727893e-01, 0.00000000e+00, 1.16541353e-01, 2.14285714e-01,\n",
              "        5.00000000e-01, 3.84615385e-01, 3.75000000e-01, 8.77192982e-02,\n",
              "        1.00000000e+00, 1.00000000e+00, 4.47761194e-02, 0.00000000e+00,\n",
              "        5.00000000e-01, 4.00000000e-02, 9.18000000e-03],\n",
              "       [4.07938205e-01, 0.00000000e+00, 1.61654135e-01, 3.71428571e-02,\n",
              "        0.00000000e+00, 0.00000000e+00, 0.00000000e+00, 1.75438596e-02,\n",
              "        1.00000000e+00, 1.00000000e+00, 4.47761194e-02, 0.00000000e+00,\n",
              "        5.00000000e-01, 9.00000000e-02, 1.47000000e-03],\n",
              "       [8.07074869e-01, 1.00000000e+00, 9.18496241e-01, 6.78571429e-01,\n",
              "        0.00000000e+00, 0.00000000e+00, 0.00000000e+00, 1.40350877e-03,\n",
              "        0.00000000e+00, 1.00000000e+00, 2.98507463e-02, 0.00000000e+00,\n",
              "        5.00000000e-01, 0.00000000e+00, 3.51000000e-03],\n",
              "       [3.23710903e-02, 1.00000000e+00, 2.78195489e-01, 5.00000000e-01,\n",
              "        0.00000000e+00, 0.00000000e+00, 0.00000000e+00, 0.00000000e+00,\n",
              "        0.00000000e+00, 1.00000000e+00, 2.98507463e-02, 0.00000000e+00,\n",
              "        5.00000000e-01, 8.00000000e-02, 1.00000000e-05]])"
            ]
          },
          "execution_count": 11,
          "metadata": {},
          "output_type": "execute_result"
        }
      ],
      "source": [
        "outliers = np.concatenate((mappings[(4, 7)], mappings[(7, 1)]), axis=0)\n",
        "\n",
        "outliers"
      ]
    },
    {
      "cell_type": "markdown",
      "metadata": {},
      "source": [
        "Now we use inverse transform to get the orignal values."
      ]
    },
    {
      "cell_type": "code",
      "execution_count": 12,
      "metadata": {},
      "outputs": [],
      "source": [
        "outliers = sc.inverse_transform(outliers)"
      ]
    },
    {
      "cell_type": "markdown",
      "metadata": {},
      "source": [
        "With this we can get the list of customers that can could be potential fraudsters and can be futher investigated by the bank."
      ]
    },
    {
      "cell_type": "code",
      "execution_count": 13,
      "metadata": {},
      "outputs": [
        {
          "data": {
            "text/plain": [
              "array([15790254., 15748552., 15757467., 15801441., 15815443., 15788131.,\n",
              "       15699963., 15771856., 15696287., 15698749., 15764841., 15748649.,\n",
              "       15729718., 15667588., 15767264., 15573798.])"
            ]
          },
          "execution_count": 13,
          "metadata": {},
          "output_type": "execute_result"
        }
      ],
      "source": [
        "outliers[:, 0] # List of the ids of outlying customers"
      ]
    }
  ],
  "metadata": {
    "kernelspec": {
      "display_name": ".venv",
      "language": "python",
      "name": "python3"
    },
    "language_info": {
      "codemirror_mode": {
        "name": "ipython",
        "version": 3
      },
      "file_extension": ".py",
      "mimetype": "text/x-python",
      "name": "python",
      "nbconvert_exporter": "python",
      "pygments_lexer": "ipython3",
      "version": "3.11.1"
    }
  },
  "nbformat": 4,
  "nbformat_minor": 2
}