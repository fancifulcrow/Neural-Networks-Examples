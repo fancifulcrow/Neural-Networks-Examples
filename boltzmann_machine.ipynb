{
 "cells": [
  {
   "cell_type": "markdown",
   "metadata": {},
   "source": [
    "# Boltzmann Machine"
   ]
  },
  {
   "cell_type": "markdown",
   "metadata": {},
   "source": [
    "## Setup and Context"
   ]
  },
  {
   "cell_type": "markdown",
   "metadata": {},
   "source": [
    "### Introduction"
   ]
  },
  {
   "cell_type": "markdown",
   "metadata": {},
   "source": [
    "Boltzmann machines are a type of stochastic or generative neural network that use probabilistic methods to learn and represent complex patterns in data. Boltzmann machine is an unsupervised deep learning model in which every node is connected to every other node and unlike the other neural networks, it is an undirected model. They also lack an output layer. Boltzmann Machines can be seen from two different points of view: An Energy-Based Model and A Probabilistic Graphical Model.\n",
    "\n",
    "For our example, we will be making a movie recommendation system."
   ]
  },
  {
   "cell_type": "markdown",
   "metadata": {},
   "source": [
    "### Import Statements"
   ]
  },
  {
   "cell_type": "code",
   "execution_count": 1,
   "metadata": {},
   "outputs": [],
   "source": [
    "import numpy as np\n",
    "import pandas as pd\n",
    "\n",
    "import torch"
   ]
  },
  {
   "cell_type": "markdown",
   "metadata": {},
   "source": [
    "## Data Preprocessing"
   ]
  },
  {
   "cell_type": "markdown",
   "metadata": {},
   "source": [
    "### Importing the Datasets"
   ]
  },
  {
   "cell_type": "markdown",
   "metadata": {},
   "source": [
    "The dataset used is from [Kaggle](https://www.kaggle.com/datasets/prajitdatta/movielens-100k-dataset). It is a collection of 100,000 ratings from 1000 users on 1700 movies."
   ]
  },
  {
   "cell_type": "code",
   "execution_count": 2,
   "metadata": {},
   "outputs": [
    {
     "data": {
      "text/html": [
       "<div>\n",
       "<style scoped>\n",
       "    .dataframe tbody tr th:only-of-type {\n",
       "        vertical-align: middle;\n",
       "    }\n",
       "\n",
       "    .dataframe tbody tr th {\n",
       "        vertical-align: top;\n",
       "    }\n",
       "\n",
       "    .dataframe thead th {\n",
       "        text-align: right;\n",
       "    }\n",
       "</style>\n",
       "<table border=\"1\" class=\"dataframe\">\n",
       "  <thead>\n",
       "    <tr style=\"text-align: right;\">\n",
       "      <th></th>\n",
       "      <th>UserId</th>\n",
       "      <th>MovieId</th>\n",
       "      <th>Rating</th>\n",
       "      <th>TimeStamp</th>\n",
       "    </tr>\n",
       "  </thead>\n",
       "  <tbody>\n",
       "    <tr>\n",
       "      <th>0</th>\n",
       "      <td>196</td>\n",
       "      <td>242</td>\n",
       "      <td>3</td>\n",
       "      <td>881250949</td>\n",
       "    </tr>\n",
       "    <tr>\n",
       "      <th>1</th>\n",
       "      <td>186</td>\n",
       "      <td>302</td>\n",
       "      <td>3</td>\n",
       "      <td>891717742</td>\n",
       "    </tr>\n",
       "    <tr>\n",
       "      <th>2</th>\n",
       "      <td>22</td>\n",
       "      <td>377</td>\n",
       "      <td>1</td>\n",
       "      <td>878887116</td>\n",
       "    </tr>\n",
       "    <tr>\n",
       "      <th>3</th>\n",
       "      <td>244</td>\n",
       "      <td>51</td>\n",
       "      <td>2</td>\n",
       "      <td>880606923</td>\n",
       "    </tr>\n",
       "    <tr>\n",
       "      <th>4</th>\n",
       "      <td>166</td>\n",
       "      <td>346</td>\n",
       "      <td>1</td>\n",
       "      <td>886397596</td>\n",
       "    </tr>\n",
       "  </tbody>\n",
       "</table>\n",
       "</div>"
      ],
      "text/plain": [
       "   UserId  MovieId  Rating  TimeStamp\n",
       "0     196      242       3  881250949\n",
       "1     186      302       3  891717742\n",
       "2      22      377       1  878887116\n",
       "3     244       51       2  880606923\n",
       "4     166      346       1  886397596"
      ]
     },
     "execution_count": 2,
     "metadata": {},
     "output_type": "execute_result"
    }
   ],
   "source": [
    "# getting dataset with details\n",
    "cols = ['UserId','MovieId','Rating','TimeStamp']\n",
    "dataset = pd.read_csv('./data/ml-100k/u.data', sep ='\\t', header=None, names=cols)\n",
    "\n",
    "dataset.head()"
   ]
  },
  {
   "cell_type": "code",
   "execution_count": 3,
   "metadata": {},
   "outputs": [
    {
     "data": {
      "text/html": [
       "<div>\n",
       "<style scoped>\n",
       "    .dataframe tbody tr th:only-of-type {\n",
       "        vertical-align: middle;\n",
       "    }\n",
       "\n",
       "    .dataframe tbody tr th {\n",
       "        vertical-align: top;\n",
       "    }\n",
       "\n",
       "    .dataframe thead th {\n",
       "        text-align: right;\n",
       "    }\n",
       "</style>\n",
       "<table border=\"1\" class=\"dataframe\">\n",
       "  <thead>\n",
       "    <tr style=\"text-align: right;\">\n",
       "      <th></th>\n",
       "      <th>MovieId</th>\n",
       "      <th>Names</th>\n",
       "    </tr>\n",
       "  </thead>\n",
       "  <tbody>\n",
       "    <tr>\n",
       "      <th>0</th>\n",
       "      <td>1</td>\n",
       "      <td>Toy Story (1995)</td>\n",
       "    </tr>\n",
       "    <tr>\n",
       "      <th>1</th>\n",
       "      <td>2</td>\n",
       "      <td>GoldenEye (1995)</td>\n",
       "    </tr>\n",
       "    <tr>\n",
       "      <th>2</th>\n",
       "      <td>3</td>\n",
       "      <td>Four Rooms (1995)</td>\n",
       "    </tr>\n",
       "    <tr>\n",
       "      <th>3</th>\n",
       "      <td>4</td>\n",
       "      <td>Get Shorty (1995)</td>\n",
       "    </tr>\n",
       "    <tr>\n",
       "      <th>4</th>\n",
       "      <td>5</td>\n",
       "      <td>Copycat (1995)</td>\n",
       "    </tr>\n",
       "  </tbody>\n",
       "</table>\n",
       "</div>"
      ],
      "text/plain": [
       "   MovieId              Names\n",
       "0        1   Toy Story (1995)\n",
       "1        2   GoldenEye (1995)\n",
       "2        3  Four Rooms (1995)\n",
       "3        4  Get Shorty (1995)\n",
       "4        5     Copycat (1995)"
      ]
     },
     "execution_count": 3,
     "metadata": {},
     "output_type": "execute_result"
    }
   ],
   "source": [
    "# getting dataset with movies\n",
    "cols = ['MovieId','Names']\n",
    "movies = pd.read_csv('./data/ml-100k/u.item', sep='\\|', header=None, engine='python', usecols=[0, 1], names=cols, encoding='latin-1')\n",
    "movies.head()"
   ]
  },
  {
   "cell_type": "markdown",
   "metadata": {},
   "source": [
    "### Importing the Training and Test Sets"
   ]
  },
  {
   "cell_type": "markdown",
   "metadata": {},
   "source": [
    "Now we split the data into training and test sets. We will be converting the training and test sets to a numpy array."
   ]
  },
  {
   "cell_type": "code",
   "execution_count": 4,
   "metadata": {},
   "outputs": [],
   "source": [
    "training_set = pd.read_csv('./data/ml-100k/u1.base', sep='\\t', header=None)\n",
    "test_set = pd.read_csv('./data/ml-100k/u1.test', sep='\\t', header=None)\n",
    "\n",
    "training_set = np.array(training_set, dtype = 'int')\n",
    "test_set = np.array(test_set, dtype = 'int')"
   ]
  },
  {
   "cell_type": "markdown",
   "metadata": {},
   "source": [
    "### Getting the Total Number of Users and Movies"
   ]
  },
  {
   "cell_type": "markdown",
   "metadata": {},
   "source": [
    "We need to get the total number of users and movies. This is because we are going to convert the training and test sets into matrices where the rows are the users, the columns represent the movies and each cell is the rating of a movie by a user."
   ]
  },
  {
   "cell_type": "code",
   "execution_count": 5,
   "metadata": {},
   "outputs": [],
   "source": [
    "num_movies = int(max(max(training_set[:, 1]), max(test_set[:, 1])))\n",
    "num_users = int(max(max(training_set[:, 0]), max(test_set[:, 0])))"
   ]
  },
  {
   "cell_type": "code",
   "execution_count": 6,
   "metadata": {},
   "outputs": [
    {
     "data": {
      "text/plain": [
       "1682"
      ]
     },
     "execution_count": 6,
     "metadata": {},
     "output_type": "execute_result"
    }
   ],
   "source": [
    "num_movies"
   ]
  },
  {
   "cell_type": "code",
   "execution_count": 7,
   "metadata": {},
   "outputs": [
    {
     "data": {
      "text/plain": [
       "943"
      ]
     },
     "execution_count": 7,
     "metadata": {},
     "output_type": "execute_result"
    }
   ],
   "source": [
    "num_users"
   ]
  },
  {
   "cell_type": "markdown",
   "metadata": {},
   "source": [
    "### Converting the Data into a 2D Matrices"
   ]
  },
  {
   "cell_type": "markdown",
   "metadata": {},
   "source": [
    "Let us create a function that would convert our training and test sets into 2D matrices. Simply put, we want to create a list of lists. Each list would be the ratings of every movie by a particular user. If a user did not rate a movie then the cell would be 0."
   ]
  },
  {
   "cell_type": "code",
   "execution_count": 8,
   "metadata": {},
   "outputs": [],
   "source": [
    "def convert_data(data):\n",
    "    # Initializing a matrix with zeros to store the ratings\n",
    "    new_data = np.zeros((num_users, num_movies))\n",
    "    \n",
    "    # Iterating through each rating in the dataset\n",
    "    for i in range(len(data[:, 0])):\n",
    "        # Extracting user, movie, and rating from the current row\n",
    "        user = data[i, 0]\n",
    "        movie = data[i, 1]\n",
    "        rating = data[i, 2]\n",
    "        \n",
    "        # Storing the rating in the appropriate position in the matrix\n",
    "        new_data[user - 1, movie - 1] = rating\n",
    "\n",
    "    # Return the converted data matrix\n",
    "    return new_data"
   ]
  },
  {
   "cell_type": "code",
   "execution_count": 9,
   "metadata": {},
   "outputs": [],
   "source": [
    "training_set = convert_data(training_set)\n",
    "test_set = convert_data(test_set)"
   ]
  },
  {
   "cell_type": "code",
   "execution_count": 10,
   "metadata": {},
   "outputs": [
    {
     "data": {
      "text/plain": [
       "array([[5., 3., 4., ..., 0., 0., 0.],\n",
       "       [4., 0., 0., ..., 0., 0., 0.],\n",
       "       [0., 0., 0., ..., 0., 0., 0.],\n",
       "       ...,\n",
       "       [5., 0., 0., ..., 0., 0., 0.],\n",
       "       [0., 0., 0., ..., 0., 0., 0.],\n",
       "       [0., 5., 0., ..., 0., 0., 0.]])"
      ]
     },
     "execution_count": 10,
     "metadata": {},
     "output_type": "execute_result"
    }
   ],
   "source": [
    "training_set"
   ]
  },
  {
   "cell_type": "code",
   "execution_count": 11,
   "metadata": {},
   "outputs": [
    {
     "data": {
      "text/plain": [
       "array([[0., 0., 0., ..., 0., 0., 0.],\n",
       "       [0., 0., 0., ..., 0., 0., 0.],\n",
       "       [0., 0., 0., ..., 0., 0., 0.],\n",
       "       ...,\n",
       "       [0., 0., 0., ..., 0., 0., 0.],\n",
       "       [0., 0., 0., ..., 0., 0., 0.],\n",
       "       [0., 0., 0., ..., 0., 0., 0.]])"
      ]
     },
     "execution_count": 11,
     "metadata": {},
     "output_type": "execute_result"
    }
   ],
   "source": [
    "test_set"
   ]
  },
  {
   "cell_type": "markdown",
   "metadata": {},
   "source": [
    "### Converting to Pytorch Tensors"
   ]
  },
  {
   "cell_type": "markdown",
   "metadata": {},
   "source": [
    "Now we convert our training and test set to **pytorch tensors**."
   ]
  },
  {
   "cell_type": "code",
   "execution_count": 12,
   "metadata": {},
   "outputs": [],
   "source": [
    "training_set = torch.FloatTensor(training_set)\n",
    "test_set = torch.FloatTensor(test_set)"
   ]
  },
  {
   "cell_type": "markdown",
   "metadata": {},
   "source": [
    "### Converting Ratings into Binary Ratings"
   ]
  },
  {
   "cell_type": "markdown",
   "metadata": {},
   "source": [
    "We want to convert the ratings into binary ratings: 1 (Liked) or 0 (Disliked). No rating would be represented by -1."
   ]
  },
  {
   "cell_type": "code",
   "execution_count": 13,
   "metadata": {},
   "outputs": [],
   "source": [
    "training_set[training_set == 0] = -1\n",
    "training_set[training_set == 1] = 0\n",
    "training_set[training_set == 2] = 0\n",
    "training_set[training_set >= 3] = 1"
   ]
  },
  {
   "cell_type": "code",
   "execution_count": 14,
   "metadata": {},
   "outputs": [],
   "source": [
    "test_set[test_set == 0] = -1\n",
    "test_set[test_set == 1] = 0\n",
    "test_set[test_set == 2] = 0\n",
    "test_set[test_set >= 3] = 1"
   ]
  },
  {
   "cell_type": "markdown",
   "metadata": {},
   "source": [
    "## The Neural Network"
   ]
  },
  {
   "cell_type": "markdown",
   "metadata": {},
   "source": [
    "### Creating the Neural Network Architecture"
   ]
  },
  {
   "cell_type": "markdown",
   "metadata": {},
   "source": [
    "We are going to create a class for our Restricted Boltzmann Machine."
   ]
  },
  {
   "cell_type": "code",
   "execution_count": 15,
   "metadata": {},
   "outputs": [],
   "source": [
    "class RBM:\n",
    "    def __init__(self, nv, nh):\n",
    "        # Initialize weights and biases randomly\n",
    "        self.W = torch.randn(nh, nv) # Weight matrix (nh x nv)\n",
    "        self.a = torch.randn(1, nh) # Bias for hidden units (1 x nh)\n",
    "        self.b = torch.randn(1, nv) # Bias for visible units (1 x nv)\n",
    " \n",
    "    def sample_h(self, x):\n",
    "        # Calculate the probabilities of hidden units being activated given visible units\n",
    "        wx = torch.mm(x, self.W.t()) # Weighted sum of inputs to hidden units\n",
    "        activation = wx + self.a.expand_as(wx) # Add bias and reshape to match dimensions\n",
    "        p_h_given_v = torch.sigmoid(activation) # Sigmoid activation function\n",
    "        # Sample hidden units based on these probabilities\n",
    "        return p_h_given_v, torch.bernoulli(p_h_given_v)\n",
    "    \n",
    "    def sample_v(self, y):\n",
    "        # Calculate the probabilities of visible units being activated given hidden units\n",
    "        wy = torch.mm(y, self.W) # Weighted sum of inputs to visible units\n",
    "        activation = wy + self.b.expand_as(wy) # Add bias and reshape to match dimensions\n",
    "        p_v_given_h = torch.sigmoid(activation) # Sigmoid activation function\n",
    "        # Sample visible units based on these probabilities\n",
    "        return p_v_given_h, torch.bernoulli(p_v_given_h)\n",
    "    \n",
    "    def train(self, v0, vk, ph0, phk):\n",
    "        # Update weights and biases based on Contrastive Divergence algorithm\n",
    "        self.W += (torch.mm(v0.t(), ph0) - torch.mm(vk.t(), phk)).t() # Weight update\n",
    "        self.a += torch.sum((ph0 - phk), 0) # Hidden bias update\n",
    "        self.b += torch.sum((v0 - vk), 0) # Visible bias update"
   ]
  },
  {
   "cell_type": "markdown",
   "metadata": {},
   "source": [
    "**Notes:**\n",
    "- In (func. init ): weights(W) and biases(a,b) are initialized using Random Normal Distribution.\n",
    "- In (func. sample_h ): activation function is created using sigmoid activation to get p_h_given_v(prob. that hidden node is 1 given the visible node)\n",
    "- In (func. sample_v ): activation function is created using sigmoid activation to get p_v_given_h(prob. that visible node is 1 given the hidden node)\n",
    "- In (func. train ): Weights and biases are updated to minimize the energy(it's an Energy Based Model)\n",
    "\n",
    "where,\n",
    "\n",
    "- a = bias for probabilty of hidden node given the visible node\n",
    "- b = bias for probabilty of visible node given the hidden node\n",
    "- torch.bernoulli(p_h_given_v) = bernoulli distribution of p_h_given_v (vector of 0s and 1s)\n",
    "- v0 = Visible node or Input vector\n",
    "- vk = Visible node after k Contrastive Divergence\n",
    "- ph0 = probabilty of hidden node given the visible node (at starting)\n",
    "- phk = probabilty of hidden node given the visible node (after k Contrastive Divergence)"
   ]
  },
  {
   "cell_type": "markdown",
   "metadata": {},
   "source": [
    "### Initializing the Model"
   ]
  },
  {
   "cell_type": "code",
   "execution_count": 16,
   "metadata": {},
   "outputs": [],
   "source": [
    "nv = len(training_set[0]) # visible nodes (nv) will be equal to input nodes (i.e movie ratings) \n",
    "nh = 100\n",
    "batch_size = 100"
   ]
  },
  {
   "cell_type": "code",
   "execution_count": 17,
   "metadata": {},
   "outputs": [],
   "source": [
    "rbm = RBM(nv, nh)"
   ]
  },
  {
   "cell_type": "markdown",
   "metadata": {},
   "source": [
    "### Training the Model"
   ]
  },
  {
   "cell_type": "code",
   "execution_count": 18,
   "metadata": {},
   "outputs": [
    {
     "name": "stdout",
     "output_type": "stream",
     "text": [
      "Epoch: 1/10\tLoss: 0.3476966321468353\n",
      "Epoch: 2/10\tLoss: 0.2975553274154663\n",
      "Epoch: 3/10\tLoss: 0.28268906474113464\n",
      "Epoch: 4/10\tLoss: 0.27419954538345337\n",
      "Epoch: 5/10\tLoss: 0.26918596029281616\n",
      "Epoch: 6/10\tLoss: 0.26599475741386414\n",
      "Epoch: 7/10\tLoss: 0.2628726065158844\n",
      "Epoch: 8/10\tLoss: 0.2610853314399719\n",
      "Epoch: 9/10\tLoss: 0.2593919634819031\n",
      "Epoch: 10/10\tLoss: 0.2586412727832794\n"
     ]
    }
   ],
   "source": [
    "num_epochs = 10\n",
    "train_loss = 0\n",
    "n = 0.\n",
    "\n",
    "#for loop for epochs\n",
    "for epoch in range(num_epochs):\n",
    "    \n",
    "    # for loop to iterate users\n",
    "    for i in range(0, num_users - batch_size, batch_size):\n",
    "        \n",
    "        #note that at start, v0 and vk are equal\n",
    "        v0 = training_set[i : i + batch_size]\n",
    "        vk = training_set[i : i + batch_size]\n",
    "        ph0,_ = rbm.sample_h(v0)\n",
    "        \n",
    "        #for loop for Contrastive Divergence\n",
    "        for k in range(10):\n",
    "            _,hk = rbm.sample_h(vk)\n",
    "            _,vk = rbm.sample_v(hk)\n",
    "            vk[v0 < 0] = v0[v0 < 0] # to ignore values less than 0 (that are unrated movies with value -1)\n",
    "        phk,_ = rbm.sample_h(vk)\n",
    "        rbm.train(v0,vk,ph0,phk) # performing Contrastive Divergence\n",
    "        \n",
    "        #calculating loss\n",
    "        train_loss += torch.mean(torch.abs(v0[v0 >= 0] - vk[v0 >= 0]))\n",
    "        n += 1.\n",
    "    \n",
    "    print(f'Epoch: {epoch + 1}/{num_epochs}\\tLoss: {train_loss / n}')"
   ]
  },
  {
   "cell_type": "markdown",
   "metadata": {},
   "source": [
    "### Testing the Model"
   ]
  },
  {
   "cell_type": "code",
   "execution_count": 19,
   "metadata": {},
   "outputs": [
    {
     "name": "stdout",
     "output_type": "stream",
     "text": [
      "Test Loss: 0.24148474633693695\n"
     ]
    }
   ],
   "source": [
    "test_loss = 0  # Initialize test loss accumulator\n",
    "n = 0.  # Initialize counter for the number of users with available ratings\n",
    "\n",
    "# Iterate over each user in the dataset\n",
    "for i in range(num_users):\n",
    "    v = training_set[i : i + 1]  # Get the training data for the current user\n",
    "    vt = test_set[i : i + 1]  # Get the test data for the current user\n",
    "    \n",
    "    # Check if the current user has ratings in the test set\n",
    "    if len(vt[vt >= 0]) > 0:\n",
    "        # Sample the hidden units based on the visible units\n",
    "        _, h = rbm.sample_h(v)\n",
    "        \n",
    "        # Sample the visible units based on the hidden units\n",
    "        _, v = rbm.sample_v(h)\n",
    "        \n",
    "        # Calculate the absolute difference between predicted and true ratings\n",
    "        # Only consider observations where the true rating exists (vt >= 0)\n",
    "        test_loss += torch.mean(torch.abs(v[vt >= 0] - vt[vt >= 0]))\n",
    "        \n",
    "        # Increment the counter for the number of users with available ratings\n",
    "        n += 1.\n",
    "\n",
    "# Print the average test loss\n",
    "print(f'Test Loss: {(test_loss / n).item()}')"
   ]
  }
 ],
 "metadata": {
  "kernelspec": {
   "display_name": ".venv",
   "language": "python",
   "name": "python3"
  },
  "language_info": {
   "codemirror_mode": {
    "name": "ipython",
    "version": 3
   },
   "file_extension": ".py",
   "mimetype": "text/x-python",
   "name": "python",
   "nbconvert_exporter": "python",
   "pygments_lexer": "ipython3",
   "version": "3.11.1"
  }
 },
 "nbformat": 4,
 "nbformat_minor": 2
}
