{
  "cells": [
    {
      "cell_type": "markdown",
      "metadata": {},
      "source": [
        "# Recurrent Neural Network"
      ]
    },
    {
      "cell_type": "markdown",
      "metadata": {},
      "source": [
        "## Setup and Context"
      ]
    },
    {
      "cell_type": "markdown",
      "metadata": {},
      "source": [
        "### Introduction"
      ]
    },
    {
      "cell_type": "markdown",
      "metadata": {},
      "source": [
        "This is an implementations of a Recurrent Neural Network for weather prediction."
      ]
    },
    {
      "cell_type": "markdown",
      "metadata": {},
      "source": [
        "### Import Statements"
      ]
    },
    {
      "cell_type": "code",
      "execution_count": 1,
      "metadata": {},
      "outputs": [],
      "source": [
        "import tensorflow as tf\n",
        "import pandas as pd\n",
        "import numpy as np\n",
        "\n",
        "from sklearn.preprocessing import MinMaxScaler\n",
        "from sklearn.metrics import mean_squared_error\n",
        "import math\n",
        "\n",
        "import matplotlib.pyplot as plt"
      ]
    },
    {
      "cell_type": "code",
      "execution_count": 2,
      "metadata": {},
      "outputs": [
        {
          "data": {
            "text/plain": [
              "'2.15.0'"
            ]
          },
          "execution_count": 2,
          "metadata": {},
          "output_type": "execute_result"
        }
      ],
      "source": [
        "tf.__version__"
      ]
    },
    {
      "cell_type": "markdown",
      "metadata": {},
      "source": [
        "### Load the Data"
      ]
    },
    {
      "cell_type": "markdown",
      "metadata": {},
      "source": [
        "The dataset used if from [Kaggle](https://www.kaggle.com/datasets/ananthr1/weather-prediction). It is the weather data of Seattle, Washington, USA from 2012 to 2015."
      ]
    },
    {
      "cell_type": "code",
      "execution_count": 3,
      "metadata": {},
      "outputs": [],
      "source": [
        "df = pd.read_csv(\"./data/seattle-weather.csv\")"
      ]
    },
    {
      "cell_type": "code",
      "execution_count": 4,
      "metadata": {},
      "outputs": [
        {
          "data": {
            "text/html": [
              "<div>\n",
              "<style scoped>\n",
              "    .dataframe tbody tr th:only-of-type {\n",
              "        vertical-align: middle;\n",
              "    }\n",
              "\n",
              "    .dataframe tbody tr th {\n",
              "        vertical-align: top;\n",
              "    }\n",
              "\n",
              "    .dataframe thead th {\n",
              "        text-align: right;\n",
              "    }\n",
              "</style>\n",
              "<table border=\"1\" class=\"dataframe\">\n",
              "  <thead>\n",
              "    <tr style=\"text-align: right;\">\n",
              "      <th></th>\n",
              "      <th>date</th>\n",
              "      <th>precipitation</th>\n",
              "      <th>temp_max</th>\n",
              "      <th>temp_min</th>\n",
              "      <th>wind</th>\n",
              "      <th>weather</th>\n",
              "    </tr>\n",
              "  </thead>\n",
              "  <tbody>\n",
              "    <tr>\n",
              "      <th>0</th>\n",
              "      <td>2012-01-01</td>\n",
              "      <td>0.0</td>\n",
              "      <td>12.8</td>\n",
              "      <td>5.0</td>\n",
              "      <td>4.7</td>\n",
              "      <td>drizzle</td>\n",
              "    </tr>\n",
              "    <tr>\n",
              "      <th>1</th>\n",
              "      <td>2012-01-02</td>\n",
              "      <td>10.9</td>\n",
              "      <td>10.6</td>\n",
              "      <td>2.8</td>\n",
              "      <td>4.5</td>\n",
              "      <td>rain</td>\n",
              "    </tr>\n",
              "    <tr>\n",
              "      <th>2</th>\n",
              "      <td>2012-01-03</td>\n",
              "      <td>0.8</td>\n",
              "      <td>11.7</td>\n",
              "      <td>7.2</td>\n",
              "      <td>2.3</td>\n",
              "      <td>rain</td>\n",
              "    </tr>\n",
              "    <tr>\n",
              "      <th>3</th>\n",
              "      <td>2012-01-04</td>\n",
              "      <td>20.3</td>\n",
              "      <td>12.2</td>\n",
              "      <td>5.6</td>\n",
              "      <td>4.7</td>\n",
              "      <td>rain</td>\n",
              "    </tr>\n",
              "    <tr>\n",
              "      <th>4</th>\n",
              "      <td>2012-01-05</td>\n",
              "      <td>1.3</td>\n",
              "      <td>8.9</td>\n",
              "      <td>2.8</td>\n",
              "      <td>6.1</td>\n",
              "      <td>rain</td>\n",
              "    </tr>\n",
              "  </tbody>\n",
              "</table>\n",
              "</div>"
            ],
            "text/plain": [
              "         date  precipitation  temp_max  temp_min  wind  weather\n",
              "0  2012-01-01            0.0      12.8       5.0   4.7  drizzle\n",
              "1  2012-01-02           10.9      10.6       2.8   4.5     rain\n",
              "2  2012-01-03            0.8      11.7       7.2   2.3     rain\n",
              "3  2012-01-04           20.3      12.2       5.6   4.7     rain\n",
              "4  2012-01-05            1.3       8.9       2.8   6.1     rain"
            ]
          },
          "execution_count": 4,
          "metadata": {},
          "output_type": "execute_result"
        }
      ],
      "source": [
        "df.head()"
      ]
    },
    {
      "cell_type": "markdown",
      "metadata": {},
      "source": [
        "In this example, we are only interested in the maximum temperature. We also want our data to be a numpy array."
      ]
    },
    {
      "cell_type": "code",
      "execution_count": 5,
      "metadata": {},
      "outputs": [
        {
          "data": {
            "text/plain": [
              "array([[12.8],\n",
              "       [10.6],\n",
              "       [11.7],\n",
              "       ...,\n",
              "       [ 7.2],\n",
              "       [ 5.6],\n",
              "       [ 5.6]])"
            ]
          },
          "execution_count": 5,
          "metadata": {},
          "output_type": "execute_result"
        }
      ],
      "source": [
        "data = df.iloc[:, 2:3].values\n",
        "\n",
        "data"
      ]
    },
    {
      "cell_type": "markdown",
      "metadata": {},
      "source": [
        "## Data Preprocessing"
      ]
    },
    {
      "cell_type": "markdown",
      "metadata": {},
      "source": [
        "### Training and Test Split"
      ]
    },
    {
      "cell_type": "markdown",
      "metadata": {},
      "source": [
        "We want to split our data into training and test sets. I am using a 70:30 split."
      ]
    },
    {
      "cell_type": "code",
      "execution_count": 6,
      "metadata": {},
      "outputs": [],
      "source": [
        "split_index = int(len(data) * 0.7)\n",
        "\n",
        "train_set = data[:split_index]\n",
        "test_set = data[split_index:]"
      ]
    },
    {
      "cell_type": "markdown",
      "metadata": {},
      "source": [
        "### Feature Scaling"
      ]
    },
    {
      "cell_type": "markdown",
      "metadata": {},
      "source": [
        "There are two main ways of feature scaling: **Standardization and Normalization**. In Recurrent Neural Networks, Normalization is the recommended."
      ]
    },
    {
      "cell_type": "code",
      "execution_count": 7,
      "metadata": {},
      "outputs": [],
      "source": [
        "scaler = MinMaxScaler(feature_range=(0, 1))\n",
        "\n",
        "train_set_scaled = scaler.fit_transform(train_set)"
      ]
    },
    {
      "cell_type": "markdown",
      "metadata": {},
      "source": [
        "### Creating Sequences"
      ]
    },
    {
      "cell_type": "markdown",
      "metadata": {},
      "source": [
        "In an Recurrent Neural Networks, each time step represents a moment in a sequence, like each day in a time series. We are using 60 time steps (about 2 months) to help capture patterns by considering the past 60 days' data. X_train holds sequences of 60 days, and y_train contains the corresponding target values for prediction, providing a structured approach to learn from historical data."
      ]
    },
    {
      "cell_type": "code",
      "execution_count": 8,
      "metadata": {},
      "outputs": [],
      "source": [
        "time_steps = 60\n",
        "\n",
        "X_train = []\n",
        "y_train = []\n",
        "\n",
        "for i in range(time_steps, len(train_set_scaled)):\n",
        "    X_train.append(train_set_scaled[i - time_steps:i, 0])\n",
        "    y_train.append(train_set_scaled[i, 0])"
      ]
    },
    {
      "cell_type": "markdown",
      "metadata": {},
      "source": [
        "Convert the X_train and y_train to numpy array."
      ]
    },
    {
      "cell_type": "code",
      "execution_count": 9,
      "metadata": {},
      "outputs": [],
      "source": [
        "X_train, y_train = np.array(X_train), np.array(y_train)"
      ]
    },
    {
      "cell_type": "markdown",
      "metadata": {},
      "source": [
        "### Reshaping the Input Data"
      ]
    },
    {
      "cell_type": "markdown",
      "metadata": {},
      "source": [
        "When reshaping the input data, we are essentially structuring it into a format that the network can efficiently process. Our input data should be a 3D array, *(Batch Size, Time Steps, Features)* where:\n",
        "- Batch Size: The number of sequences in each batch.\n",
        "- Time Steps represents the number of time steps in each sequence, which is 60 in our case.\n",
        "- Features represents the number of features at each time step. Since our data is univariate, this will be 1."
      ]
    },
    {
      "cell_type": "code",
      "execution_count": 10,
      "metadata": {},
      "outputs": [
        {
          "data": {
            "text/plain": [
              "(962, 60)"
            ]
          },
          "execution_count": 10,
          "metadata": {},
          "output_type": "execute_result"
        }
      ],
      "source": [
        "X_train.shape"
      ]
    },
    {
      "cell_type": "code",
      "execution_count": 11,
      "metadata": {},
      "outputs": [],
      "source": [
        "X_train = np.reshape(X_train, (X_train.shape[0], X_train.shape[1], 1))"
      ]
    },
    {
      "cell_type": "code",
      "execution_count": 12,
      "metadata": {},
      "outputs": [
        {
          "data": {
            "text/plain": [
              "(962, 60, 1)"
            ]
          },
          "execution_count": 12,
          "metadata": {},
          "output_type": "execute_result"
        }
      ],
      "source": [
        "X_train.shape"
      ]
    },
    {
      "cell_type": "markdown",
      "metadata": {},
      "source": [
        "## Building the Architecture"
      ]
    },
    {
      "cell_type": "markdown",
      "metadata": {},
      "source": [
        "### Initializing the RNN"
      ]
    },
    {
      "cell_type": "markdown",
      "metadata": {},
      "source": [
        "The Recurrent Neural Network is a sequence of layers. Therefore we are going to intialize our model with the `Sequential` class."
      ]
    },
    {
      "cell_type": "code",
      "execution_count": 13,
      "metadata": {},
      "outputs": [],
      "source": [
        "rnn = tf.keras.models.Sequential()"
      ]
    },
    {
      "cell_type": "markdown",
      "metadata": {},
      "source": [
        "### Adding the First LSTM layer and some Dropout Regularization"
      ]
    },
    {
      "cell_type": "markdown",
      "metadata": {},
      "source": [
        "We add an `LSTM` layer and specify the following:\n",
        "- `units`: Number of neurons in the layer\n",
        "- `return_sequences`: Whether to return the last output in the output sequence, or the full sequence\n",
        "- `input_shape`: This only contains the last two dimensions of the input (Time Steps, Features)\n",
        "\n",
        "Following that we do some dropout regularization to avoid overfitting. We would be using a rate of 20% for dropout.\n",
        "\n",
        "For other layers after the input layer, we do not specify the input shape."
      ]
    },
    {
      "cell_type": "code",
      "execution_count": 14,
      "metadata": {},
      "outputs": [],
      "source": [
        "rnn.add(tf.keras.layers.LSTM(units=50, return_sequences=True, input_shape=(time_steps, 1)))\n",
        "rnn.add(tf.keras.layers.Dropout(0.2))"
      ]
    },
    {
      "cell_type": "markdown",
      "metadata": {},
      "source": [
        "### Adding the Second LSTM layer and some Dropout Regularizartion"
      ]
    },
    {
      "cell_type": "code",
      "execution_count": 15,
      "metadata": {},
      "outputs": [],
      "source": [
        "rnn.add(tf.keras.layers.LSTM(units=50, return_sequences=True))\n",
        "rnn.add(tf.keras.layers.Dropout(0.2))"
      ]
    },
    {
      "cell_type": "markdown",
      "metadata": {},
      "source": [
        "### Adding the Third LSTM layer and some Dropout Regularizartion"
      ]
    },
    {
      "cell_type": "code",
      "execution_count": 16,
      "metadata": {},
      "outputs": [],
      "source": [
        "rnn.add(tf.keras.layers.LSTM(units=50, return_sequences=True))\n",
        "rnn.add(tf.keras.layers.Dropout(0.2))"
      ]
    },
    {
      "cell_type": "markdown",
      "metadata": {},
      "source": [
        "### Adding the Fourth LSTM layer and some Dropout Regularizartion"
      ]
    },
    {
      "cell_type": "markdown",
      "metadata": {},
      "source": [
        "Since this is the last layer before our output layer, we need to set the `return_sequences` of this layer to False. Doing this simplifies the network architecture by providing a single output for the entire sequence, matching the input shape expected by the output layer, and reducing computational complexity by avoiding the need to process outputs at each timestep."
      ]
    },
    {
      "cell_type": "code",
      "execution_count": 17,
      "metadata": {},
      "outputs": [],
      "source": [
        "rnn.add(tf.keras.layers.LSTM(units=50))\n",
        "rnn.add(tf.keras.layers.Dropout(0.2))"
      ]
    },
    {
      "cell_type": "markdown",
      "metadata": {},
      "source": [
        "### Adding the Output Layer"
      ]
    },
    {
      "cell_type": "markdown",
      "metadata": {},
      "source": [
        "Since our data is univariate, we are expecting only one node in the output layer."
      ]
    },
    {
      "cell_type": "code",
      "execution_count": 18,
      "metadata": {},
      "outputs": [],
      "source": [
        "rnn.add(tf.keras.layers.Dense(units=1))"
      ]
    },
    {
      "cell_type": "markdown",
      "metadata": {},
      "source": [
        "## Training"
      ]
    },
    {
      "cell_type": "markdown",
      "metadata": {},
      "source": [
        "### Compiling the RNN"
      ]
    },
    {
      "cell_type": "markdown",
      "metadata": {},
      "source": [
        "The optimizer recommended for Recurrent Neural Networks in the Tensorflow Documentation is the **RMSprop** Optimizer. However we would be using the **Atom** Optimizer because this is almost always the safe choice. The Loss Function would be **Mean Squared Error** as this is a regression problem."
      ]
    },
    {
      "cell_type": "code",
      "execution_count": 19,
      "metadata": {},
      "outputs": [],
      "source": [
        "rnn.compile(optimizer=\"adam\", loss=\"mean_squared_error\")"
      ]
    },
    {
      "cell_type": "markdown",
      "metadata": {},
      "source": [
        "### Fitting the RNN"
      ]
    },
    {
      "cell_type": "code",
      "execution_count": 20,
      "metadata": {},
      "outputs": [
        {
          "name": "stdout",
          "output_type": "stream",
          "text": [
            "Epoch 1/100\n"
          ]
        },
        {
          "name": "stdout",
          "output_type": "stream",
          "text": [
            "31/31 [==============================] - 5s 36ms/step - loss: 0.0503\n",
            "Epoch 2/100\n",
            "31/31 [==============================] - 1s 34ms/step - loss: 0.0171\n",
            "Epoch 3/100\n",
            "31/31 [==============================] - 1s 35ms/step - loss: 0.0149\n",
            "Epoch 4/100\n",
            "31/31 [==============================] - 1s 36ms/step - loss: 0.0137\n",
            "Epoch 5/100\n",
            "31/31 [==============================] - 1s 37ms/step - loss: 0.0167\n",
            "Epoch 6/100\n",
            "31/31 [==============================] - 1s 36ms/step - loss: 0.0145\n",
            "Epoch 7/100\n",
            "31/31 [==============================] - 1s 34ms/step - loss: 0.0148\n",
            "Epoch 8/100\n",
            "31/31 [==============================] - 1s 36ms/step - loss: 0.0138\n",
            "Epoch 9/100\n",
            "31/31 [==============================] - 1s 37ms/step - loss: 0.0142\n",
            "Epoch 10/100\n",
            "31/31 [==============================] - 1s 34ms/step - loss: 0.0143\n",
            "Epoch 11/100\n",
            "31/31 [==============================] - 1s 34ms/step - loss: 0.0137\n",
            "Epoch 12/100\n",
            "31/31 [==============================] - 1s 35ms/step - loss: 0.0137\n",
            "Epoch 13/100\n",
            "31/31 [==============================] - 1s 35ms/step - loss: 0.0159\n",
            "Epoch 14/100\n",
            "31/31 [==============================] - 1s 33ms/step - loss: 0.0137\n",
            "Epoch 15/100\n",
            "31/31 [==============================] - 1s 33ms/step - loss: 0.0131\n",
            "Epoch 16/100\n",
            "31/31 [==============================] - 1s 33ms/step - loss: 0.0145\n",
            "Epoch 17/100\n",
            "31/31 [==============================] - 1s 35ms/step - loss: 0.0135\n",
            "Epoch 18/100\n",
            "31/31 [==============================] - 1s 36ms/step - loss: 0.0149\n",
            "Epoch 19/100\n",
            "31/31 [==============================] - 1s 33ms/step - loss: 0.0132\n",
            "Epoch 20/100\n",
            "31/31 [==============================] - 1s 33ms/step - loss: 0.0129\n",
            "Epoch 21/100\n",
            "31/31 [==============================] - 1s 33ms/step - loss: 0.0126\n",
            "Epoch 22/100\n",
            "31/31 [==============================] - 1s 34ms/step - loss: 0.0140\n",
            "Epoch 23/100\n",
            "31/31 [==============================] - 1s 34ms/step - loss: 0.0131\n",
            "Epoch 24/100\n",
            "31/31 [==============================] - 1s 33ms/step - loss: 0.0135\n",
            "Epoch 25/100\n",
            "31/31 [==============================] - 1s 34ms/step - loss: 0.0132\n",
            "Epoch 26/100\n",
            "31/31 [==============================] - 1s 34ms/step - loss: 0.0128\n",
            "Epoch 27/100\n",
            "31/31 [==============================] - 1s 35ms/step - loss: 0.0136\n",
            "Epoch 28/100\n",
            "31/31 [==============================] - 1s 34ms/step - loss: 0.0131\n",
            "Epoch 29/100\n",
            "31/31 [==============================] - 1s 34ms/step - loss: 0.0126\n",
            "Epoch 30/100\n",
            "31/31 [==============================] - 1s 34ms/step - loss: 0.0122\n",
            "Epoch 31/100\n",
            "31/31 [==============================] - 1s 33ms/step - loss: 0.0126\n",
            "Epoch 32/100\n",
            "31/31 [==============================] - 1s 33ms/step - loss: 0.0125\n",
            "Epoch 33/100\n",
            "31/31 [==============================] - 1s 34ms/step - loss: 0.0115\n",
            "Epoch 34/100\n",
            "31/31 [==============================] - 1s 34ms/step - loss: 0.0133\n",
            "Epoch 35/100\n",
            "31/31 [==============================] - 1s 34ms/step - loss: 0.0114\n",
            "Epoch 36/100\n",
            "31/31 [==============================] - 1s 34ms/step - loss: 0.0124\n",
            "Epoch 37/100\n",
            "31/31 [==============================] - 1s 34ms/step - loss: 0.0124\n",
            "Epoch 38/100\n",
            "31/31 [==============================] - 1s 34ms/step - loss: 0.0139\n",
            "Epoch 39/100\n",
            "31/31 [==============================] - 1s 33ms/step - loss: 0.0127\n",
            "Epoch 40/100\n",
            "31/31 [==============================] - 1s 34ms/step - loss: 0.0109\n",
            "Epoch 41/100\n",
            "31/31 [==============================] - 1s 34ms/step - loss: 0.0113\n",
            "Epoch 42/100\n",
            "31/31 [==============================] - 1s 34ms/step - loss: 0.0113\n",
            "Epoch 43/100\n",
            "31/31 [==============================] - 1s 34ms/step - loss: 0.0116\n",
            "Epoch 44/100\n",
            "31/31 [==============================] - 1s 34ms/step - loss: 0.0113\n",
            "Epoch 45/100\n",
            "31/31 [==============================] - 1s 35ms/step - loss: 0.0106\n",
            "Epoch 46/100\n",
            "31/31 [==============================] - 1s 33ms/step - loss: 0.0109\n",
            "Epoch 47/100\n",
            "31/31 [==============================] - 1s 33ms/step - loss: 0.0114\n",
            "Epoch 48/100\n",
            "31/31 [==============================] - 1s 33ms/step - loss: 0.0106\n",
            "Epoch 49/100\n",
            "31/31 [==============================] - 1s 33ms/step - loss: 0.0102\n",
            "Epoch 50/100\n",
            "31/31 [==============================] - 1s 34ms/step - loss: 0.0101\n",
            "Epoch 51/100\n",
            "31/31 [==============================] - 1s 34ms/step - loss: 0.0103\n",
            "Epoch 52/100\n",
            "31/31 [==============================] - 1s 35ms/step - loss: 0.0106\n",
            "Epoch 53/100\n",
            "31/31 [==============================] - 1s 34ms/step - loss: 0.0097\n",
            "Epoch 54/100\n",
            "31/31 [==============================] - 1s 34ms/step - loss: 0.0102\n",
            "Epoch 55/100\n",
            "31/31 [==============================] - 1s 35ms/step - loss: 0.0099\n",
            "Epoch 56/100\n",
            "31/31 [==============================] - 1s 33ms/step - loss: 0.0100\n",
            "Epoch 57/100\n",
            "31/31 [==============================] - 1s 34ms/step - loss: 0.0094\n",
            "Epoch 58/100\n",
            "31/31 [==============================] - 1s 33ms/step - loss: 0.0094\n",
            "Epoch 59/100\n",
            "31/31 [==============================] - 1s 34ms/step - loss: 0.0089\n",
            "Epoch 60/100\n",
            "31/31 [==============================] - 1s 34ms/step - loss: 0.0088\n",
            "Epoch 61/100\n",
            "31/31 [==============================] - 1s 34ms/step - loss: 0.0085\n",
            "Epoch 62/100\n",
            "31/31 [==============================] - 1s 33ms/step - loss: 0.0095\n",
            "Epoch 63/100\n",
            "31/31 [==============================] - 1s 33ms/step - loss: 0.0082\n",
            "Epoch 64/100\n",
            "31/31 [==============================] - 1s 35ms/step - loss: 0.0086\n",
            "Epoch 65/100\n",
            "31/31 [==============================] - 1s 33ms/step - loss: 0.0078\n",
            "Epoch 66/100\n",
            "31/31 [==============================] - 1s 33ms/step - loss: 0.0080\n",
            "Epoch 67/100\n",
            "31/31 [==============================] - 1s 34ms/step - loss: 0.0079\n",
            "Epoch 68/100\n",
            "31/31 [==============================] - 1s 33ms/step - loss: 0.0081\n",
            "Epoch 69/100\n",
            "31/31 [==============================] - 1s 34ms/step - loss: 0.0076\n",
            "Epoch 70/100\n",
            "31/31 [==============================] - 1s 34ms/step - loss: 0.0084\n",
            "Epoch 71/100\n",
            "31/31 [==============================] - 1s 33ms/step - loss: 0.0075\n",
            "Epoch 72/100\n",
            "31/31 [==============================] - 1s 34ms/step - loss: 0.0074\n",
            "Epoch 73/100\n",
            "31/31 [==============================] - 1s 34ms/step - loss: 0.0078\n",
            "Epoch 74/100\n",
            "31/31 [==============================] - 1s 33ms/step - loss: 0.0081\n",
            "Epoch 75/100\n",
            "31/31 [==============================] - 1s 33ms/step - loss: 0.0074\n",
            "Epoch 76/100\n",
            "31/31 [==============================] - 1s 34ms/step - loss: 0.0072\n",
            "Epoch 77/100\n",
            "31/31 [==============================] - 1s 34ms/step - loss: 0.0069\n",
            "Epoch 78/100\n",
            "31/31 [==============================] - 1s 34ms/step - loss: 0.0076\n",
            "Epoch 79/100\n",
            "31/31 [==============================] - 1s 33ms/step - loss: 0.0074\n",
            "Epoch 80/100\n",
            "31/31 [==============================] - 1s 35ms/step - loss: 0.0070\n",
            "Epoch 81/100\n",
            "31/31 [==============================] - 1s 44ms/step - loss: 0.0076\n",
            "Epoch 82/100\n",
            "31/31 [==============================] - 1s 39ms/step - loss: 0.0075\n",
            "Epoch 83/100\n",
            "31/31 [==============================] - 1s 45ms/step - loss: 0.0071\n",
            "Epoch 84/100\n",
            "31/31 [==============================] - 1s 46ms/step - loss: 0.0067\n",
            "Epoch 85/100\n",
            "31/31 [==============================] - 1s 36ms/step - loss: 0.0073\n",
            "Epoch 86/100\n",
            "31/31 [==============================] - 1s 38ms/step - loss: 0.0069\n",
            "Epoch 87/100\n",
            "31/31 [==============================] - 1s 33ms/step - loss: 0.0067\n",
            "Epoch 88/100\n",
            "31/31 [==============================] - 1s 33ms/step - loss: 0.0067\n",
            "Epoch 89/100\n",
            "31/31 [==============================] - 1s 33ms/step - loss: 0.0068\n",
            "Epoch 90/100\n",
            "31/31 [==============================] - 1s 38ms/step - loss: 0.0072\n",
            "Epoch 91/100\n",
            "31/31 [==============================] - 1s 33ms/step - loss: 0.0078\n",
            "Epoch 92/100\n",
            "31/31 [==============================] - 1s 34ms/step - loss: 0.0076\n",
            "Epoch 93/100\n",
            "31/31 [==============================] - 1s 40ms/step - loss: 0.0069\n",
            "Epoch 94/100\n",
            "31/31 [==============================] - 1s 33ms/step - loss: 0.0068\n",
            "Epoch 95/100\n",
            "31/31 [==============================] - 1s 37ms/step - loss: 0.0078\n",
            "Epoch 96/100\n",
            "31/31 [==============================] - 1s 40ms/step - loss: 0.0081\n",
            "Epoch 97/100\n",
            "31/31 [==============================] - 1s 45ms/step - loss: 0.0072\n",
            "Epoch 98/100\n",
            "31/31 [==============================] - 1s 37ms/step - loss: 0.0069\n",
            "Epoch 99/100\n",
            "31/31 [==============================] - 1s 38ms/step - loss: 0.0064\n",
            "Epoch 100/100\n",
            "31/31 [==============================] - 1s 37ms/step - loss: 0.0065\n"
          ]
        },
        {
          "data": {
            "text/plain": [
              "<keras.src.callbacks.History at 0x22ab1e81210>"
            ]
          },
          "execution_count": 20,
          "metadata": {},
          "output_type": "execute_result"
        }
      ],
      "source": [
        "rnn.fit(X_train, y_train, epochs=100, batch_size=32)"
      ]
    },
    {
      "cell_type": "markdown",
      "metadata": {},
      "source": [
        "## Making the Predictions and Visualizing Results"
      ]
    },
    {
      "cell_type": "markdown",
      "metadata": {},
      "source": [
        "Firstly, we get the inputs which we will use to generate the sequences for X_test."
      ]
    },
    {
      "cell_type": "code",
      "execution_count": 21,
      "metadata": {},
      "outputs": [],
      "source": [
        "inputs = data[len(data) - len(test_set) - time_steps:]"
      ]
    },
    {
      "cell_type": "code",
      "execution_count": 22,
      "metadata": {},
      "outputs": [],
      "source": [
        "inputs = inputs.reshape(-1, 1)"
      ]
    },
    {
      "cell_type": "markdown",
      "metadata": {},
      "source": [
        "Remember to normalize the inputs."
      ]
    },
    {
      "cell_type": "code",
      "execution_count": 23,
      "metadata": {},
      "outputs": [],
      "source": [
        "inputs = scaler.transform(inputs)"
      ]
    },
    {
      "cell_type": "markdown",
      "metadata": {},
      "source": [
        "Now we generate the sequences of the X_test from our data."
      ]
    },
    {
      "cell_type": "code",
      "execution_count": 24,
      "metadata": {},
      "outputs": [],
      "source": [
        "X_test = []\n",
        "\n",
        "for i in range(time_steps, time_steps + len(test_set)):\n",
        "    X_test.append(inputs[i - time_steps:i, 0])"
      ]
    },
    {
      "cell_type": "markdown",
      "metadata": {},
      "source": [
        "Convert X_test to a numpy array."
      ]
    },
    {
      "cell_type": "code",
      "execution_count": 25,
      "metadata": {},
      "outputs": [],
      "source": [
        "X_test = np.array(X_test)"
      ]
    },
    {
      "cell_type": "markdown",
      "metadata": {},
      "source": [
        "Reshape X_test to (Batch Size, Time Steps, Features)"
      ]
    },
    {
      "cell_type": "code",
      "execution_count": 26,
      "metadata": {},
      "outputs": [
        {
          "data": {
            "text/plain": [
              "(439, 60)"
            ]
          },
          "execution_count": 26,
          "metadata": {},
          "output_type": "execute_result"
        }
      ],
      "source": [
        "X_test.shape"
      ]
    },
    {
      "cell_type": "code",
      "execution_count": 27,
      "metadata": {},
      "outputs": [],
      "source": [
        "X_test = np.reshape(X_test, (X_test.shape[0], X_test.shape[1], 1))"
      ]
    },
    {
      "cell_type": "code",
      "execution_count": 28,
      "metadata": {},
      "outputs": [
        {
          "data": {
            "text/plain": [
              "(439, 60, 1)"
            ]
          },
          "execution_count": 28,
          "metadata": {},
          "output_type": "execute_result"
        }
      ],
      "source": [
        "X_test.shape"
      ]
    },
    {
      "cell_type": "markdown",
      "metadata": {},
      "source": [
        "With this we can predict."
      ]
    },
    {
      "cell_type": "code",
      "execution_count": 29,
      "metadata": {},
      "outputs": [
        {
          "name": "stdout",
          "output_type": "stream",
          "text": [
            "14/14 [==============================] - 1s 12ms/step\n"
          ]
        }
      ],
      "source": [
        "prediction = rnn.predict(X_test)"
      ]
    },
    {
      "cell_type": "markdown",
      "metadata": {},
      "source": [
        "Now unscale the values of our prediction."
      ]
    },
    {
      "cell_type": "code",
      "execution_count": 30,
      "metadata": {},
      "outputs": [],
      "source": [
        "prediction = scaler.inverse_transform(prediction)"
      ]
    },
    {
      "cell_type": "markdown",
      "metadata": {},
      "source": [
        "Let us visualize the actual values of our test to the predicted values."
      ]
    },
    {
      "cell_type": "code",
      "execution_count": 31,
      "metadata": {},
      "outputs": [
        {
          "data": {
            "image/png": "[encoded data removed]",
            "text/plain": [
              "<Figure size 1600x900 with 1 Axes>"
            ]
          },
          "metadata": {},
          "output_type": "display_data"
        }
      ],
      "source": [
        "plt.figure(figsize=(16, 9))\n",
        "\n",
        "plt.title(\"Max Temperatures Actual Value vs Predicted Value\")\n",
        "plt.plot(test_set, color=\"red\", label=\"Actual Max Temperatures\")\n",
        "plt.plot(prediction, color=\"blue\", label=\"Predicted Max Temperatures\")\n",
        "plt.xlabel(\"Time\")\n",
        "plt.ylabel(\"Temperature\")\n",
        "plt.legend()\n",
        "\n",
        "plt.show()"
      ]
    },
    {
      "cell_type": "markdown",
      "metadata": {},
      "source": [
        "## Evaluating the RNN"
      ]
    },
    {
      "cell_type": "markdown",
      "metadata": {},
      "source": [
        "For Regression, the way to evaluate the model performance is with a metric called RMSE (Root Mean Squared Error). It is calculated as the root of the mean of the squared differences between the predictions and the real values."
      ]
    },
    {
      "cell_type": "code",
      "execution_count": 32,
      "metadata": {},
      "outputs": [
        {
          "data": {
            "text/plain": [
              "2.7201521939691617"
            ]
          },
          "execution_count": 32,
          "metadata": {},
          "output_type": "execute_result"
        }
      ],
      "source": [
        "rmse = math.sqrt(mean_squared_error(test_set, prediction))\n",
        "\n",
        "rmse"
      ]
    },
    {
      "cell_type": "markdown",
      "metadata": {},
      "source": [
        "## Improving the RNN"
      ]
    },
    {
      "cell_type": "markdown",
      "metadata": {},
      "source": [
        "You can improve the Recurrent Neural Network Model by doing any of the following.\n",
        "\n",
        "- Getting more training data\n",
        "- Adding some other indicators/features\n",
        "- Adding more LSTM layers\n",
        "- Adding more neurons in the LSTM layers"
      ]
    }
  ],
  "metadata": {
    "kernelspec": {
      "display_name": ".venv",
      "language": "python",
      "name": "python3"
    },
    "language_info": {
      "codemirror_mode": {
        "name": "ipython",
        "version": 3
      },
      "file_extension": ".py",
      "mimetype": "text/x-python",
      "name": "python",
      "nbconvert_exporter": "python",
      "pygments_lexer": "ipython3",
      "version": "3.11.1"
    }
  },
  "nbformat": 4,
  "nbformat_minor": 2
}