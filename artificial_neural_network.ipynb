{
  "cells": [
    {
      "cell_type": "markdown",
      "metadata": {},
      "source": [
        "# Artificial Neural Network"
      ]
    },
    {
      "cell_type": "markdown",
      "metadata": {},
      "source": [
        "## Setup and Context"
      ]
    },
    {
      "cell_type": "markdown",
      "metadata": {},
      "source": [
        "### Introduction"
      ]
    },
    {
      "cell_type": "markdown",
      "metadata": {},
      "source": [
        "In this notebook is an Artificial Neural Network which identifies bank customers that are withdrawing their accounts from the bank. The dataset used is from [Kaggle](https://www.kaggle.com/datasets/santoshd3/bank-customers)."
      ]
    },
    {
      "cell_type": "markdown",
      "metadata": {},
      "source": [
        "### Import Statements"
      ]
    },
    {
      "cell_type": "code",
      "execution_count": 1,
      "metadata": {},
      "outputs": [],
      "source": [
        "import tensorflow as tf\n",
        "import pandas as pd\n",
        "import numpy as np\n",
        "\n",
        "from sklearn.preprocessing import LabelEncoder, OneHotEncoder, StandardScaler\n",
        "from sklearn.compose import ColumnTransformer\n",
        "from sklearn.model_selection import train_test_split\n",
        "from sklearn.metrics import confusion_matrix, accuracy_score"
      ]
    },
    {
      "cell_type": "code",
      "execution_count": 2,
      "metadata": {},
      "outputs": [
        {
          "data": {
            "text/plain": [
              "'2.15.0'"
            ]
          },
          "execution_count": 2,
          "metadata": {},
          "output_type": "execute_result"
        }
      ],
      "source": [
        "tf.__version__"
      ]
    },
    {
      "cell_type": "markdown",
      "metadata": {},
      "source": [
        "## Data Preprocessing"
      ]
    },
    {
      "cell_type": "markdown",
      "metadata": {},
      "source": [
        "### Load the Data"
      ]
    },
    {
      "cell_type": "code",
      "execution_count": 3,
      "metadata": {},
      "outputs": [],
      "source": [
        "df = pd.read_csv(\"./data/Churn Modeling.csv\")"
      ]
    },
    {
      "cell_type": "code",
      "execution_count": 4,
      "metadata": {},
      "outputs": [
        {
          "data": {
            "text/html": [
              "<div>\n",
              "<style scoped>\n",
              "    .dataframe tbody tr th:only-of-type {\n",
              "        vertical-align: middle;\n",
              "    }\n",
              "\n",
              "    .dataframe tbody tr th {\n",
              "        vertical-align: top;\n",
              "    }\n",
              "\n",
              "    .dataframe thead th {\n",
              "        text-align: right;\n",
              "    }\n",
              "</style>\n",
              "<table border=\"1\" class=\"dataframe\">\n",
              "  <thead>\n",
              "    <tr style=\"text-align: right;\">\n",
              "      <th></th>\n",
              "      <th>RowNumber</th>\n",
              "      <th>CustomerId</th>\n",
              "      <th>Surname</th>\n",
              "      <th>CreditScore</th>\n",
              "      <th>Geography</th>\n",
              "      <th>Gender</th>\n",
              "      <th>Age</th>\n",
              "      <th>Tenure</th>\n",
              "      <th>Balance</th>\n",
              "      <th>NumOfProducts</th>\n",
              "      <th>HasCrCard</th>\n",
              "      <th>IsActiveMember</th>\n",
              "      <th>EstimatedSalary</th>\n",
              "      <th>Exited</th>\n",
              "    </tr>\n",
              "  </thead>\n",
              "  <tbody>\n",
              "    <tr>\n",
              "      <th>0</th>\n",
              "      <td>1</td>\n",
              "      <td>15634602</td>\n",
              "      <td>Hargrave</td>\n",
              "      <td>619</td>\n",
              "      <td>France</td>\n",
              "      <td>Female</td>\n",
              "      <td>42</td>\n",
              "      <td>2</td>\n",
              "      <td>0.00</td>\n",
              "      <td>1</td>\n",
              "      <td>1</td>\n",
              "      <td>1</td>\n",
              "      <td>101348.88</td>\n",
              "      <td>1</td>\n",
              "    </tr>\n",
              "    <tr>\n",
              "      <th>1</th>\n",
              "      <td>2</td>\n",
              "      <td>15647311</td>\n",
              "      <td>Hill</td>\n",
              "      <td>608</td>\n",
              "      <td>Spain</td>\n",
              "      <td>Female</td>\n",
              "      <td>41</td>\n",
              "      <td>1</td>\n",
              "      <td>83807.86</td>\n",
              "      <td>1</td>\n",
              "      <td>0</td>\n",
              "      <td>1</td>\n",
              "      <td>112542.58</td>\n",
              "      <td>0</td>\n",
              "    </tr>\n",
              "    <tr>\n",
              "      <th>2</th>\n",
              "      <td>3</td>\n",
              "      <td>15619304</td>\n",
              "      <td>Onio</td>\n",
              "      <td>502</td>\n",
              "      <td>France</td>\n",
              "      <td>Female</td>\n",
              "      <td>42</td>\n",
              "      <td>8</td>\n",
              "      <td>159660.80</td>\n",
              "      <td>3</td>\n",
              "      <td>1</td>\n",
              "      <td>0</td>\n",
              "      <td>113931.57</td>\n",
              "      <td>1</td>\n",
              "    </tr>\n",
              "    <tr>\n",
              "      <th>3</th>\n",
              "      <td>4</td>\n",
              "      <td>15701354</td>\n",
              "      <td>Boni</td>\n",
              "      <td>699</td>\n",
              "      <td>France</td>\n",
              "      <td>Female</td>\n",
              "      <td>39</td>\n",
              "      <td>1</td>\n",
              "      <td>0.00</td>\n",
              "      <td>2</td>\n",
              "      <td>0</td>\n",
              "      <td>0</td>\n",
              "      <td>93826.63</td>\n",
              "      <td>0</td>\n",
              "    </tr>\n",
              "    <tr>\n",
              "      <th>4</th>\n",
              "      <td>5</td>\n",
              "      <td>15737888</td>\n",
              "      <td>Mitchell</td>\n",
              "      <td>850</td>\n",
              "      <td>Spain</td>\n",
              "      <td>Female</td>\n",
              "      <td>43</td>\n",
              "      <td>2</td>\n",
              "      <td>125510.82</td>\n",
              "      <td>1</td>\n",
              "      <td>1</td>\n",
              "      <td>1</td>\n",
              "      <td>79084.10</td>\n",
              "      <td>0</td>\n",
              "    </tr>\n",
              "  </tbody>\n",
              "</table>\n",
              "</div>"
            ],
            "text/plain": [
              "   RowNumber  CustomerId   Surname  CreditScore Geography  Gender  Age  \\\n",
              "0          1    15634602  Hargrave          619    France  Female   42   \n",
              "1          2    15647311      Hill          608     Spain  Female   41   \n",
              "2          3    15619304      Onio          502    France  Female   42   \n",
              "3          4    15701354      Boni          699    France  Female   39   \n",
              "4          5    15737888  Mitchell          850     Spain  Female   43   \n",
              "\n",
              "   Tenure    Balance  NumOfProducts  HasCrCard  IsActiveMember  \\\n",
              "0       2       0.00              1          1               1   \n",
              "1       1   83807.86              1          0               1   \n",
              "2       8  159660.80              3          1               0   \n",
              "3       1       0.00              2          0               0   \n",
              "4       2  125510.82              1          1               1   \n",
              "\n",
              "   EstimatedSalary  Exited  \n",
              "0        101348.88       1  \n",
              "1        112542.58       0  \n",
              "2        113931.57       1  \n",
              "3         93826.63       0  \n",
              "4         79084.10       0  "
            ]
          },
          "execution_count": 4,
          "metadata": {},
          "output_type": "execute_result"
        }
      ],
      "source": [
        "df.head()"
      ]
    },
    {
      "cell_type": "code",
      "execution_count": 5,
      "metadata": {},
      "outputs": [
        {
          "name": "stdout",
          "output_type": "stream",
          "text": [
            "<class 'pandas.core.frame.DataFrame'>\n",
            "RangeIndex: 10000 entries, 0 to 9999\n",
            "Data columns (total 14 columns):\n",
            " #   Column           Non-Null Count  Dtype  \n",
            "---  ------           --------------  -----  \n",
            " 0   RowNumber        10000 non-null  int64  \n",
            " 1   CustomerId       10000 non-null  int64  \n",
            " 2   Surname          10000 non-null  object \n",
            " 3   CreditScore      10000 non-null  int64  \n",
            " 4   Geography        10000 non-null  object \n",
            " 5   Gender           10000 non-null  object \n",
            " 6   Age              10000 non-null  int64  \n",
            " 7   Tenure           10000 non-null  int64  \n",
            " 8   Balance          10000 non-null  float64\n",
            " 9   NumOfProducts    10000 non-null  int64  \n",
            " 10  HasCrCard        10000 non-null  int64  \n",
            " 11  IsActiveMember   10000 non-null  int64  \n",
            " 12  EstimatedSalary  10000 non-null  float64\n",
            " 13  Exited           10000 non-null  int64  \n",
            "dtypes: float64(2), int64(9), object(3)\n",
            "memory usage: 1.1+ MB\n"
          ]
        }
      ],
      "source": [
        "df.info()"
      ]
    },
    {
      "cell_type": "code",
      "execution_count": 6,
      "metadata": {},
      "outputs": [
        {
          "data": {
            "text/plain": [
              "0"
            ]
          },
          "execution_count": 6,
          "metadata": {},
          "output_type": "execute_result"
        }
      ],
      "source": [
        "df.duplicated().sum()"
      ]
    },
    {
      "cell_type": "markdown",
      "metadata": {},
      "source": [
        "### Getting Features and Targets"
      ]
    },
    {
      "cell_type": "markdown",
      "metadata": {},
      "source": [
        "We are going to split our data into features and targets.\n",
        "- **Features**, also known as predictors or independent variables, are the input variables that are used to make predictions or decisions. They represent different aspects or attributes of the data that are relevant to the problem being solved\n",
        "- **Targets**, also known as labels or dependent variables, are the output variables that the model is trying to predict or classify based on the input features.\n",
        "\n",
        "For the purpose of our Artifical Neural Network, the \"RowNumber\", \"CustomerId\" and \"Surname\" columns are not needed as they will not give us any valuable information. So we will not be including them in the features. Our target is the last column, \"Exited\"."
      ]
    },
    {
      "cell_type": "code",
      "execution_count": 7,
      "metadata": {},
      "outputs": [],
      "source": [
        "X = df.iloc[:, 3:-1].values\n",
        "y = df.iloc[:, -1].values"
      ]
    },
    {
      "cell_type": "code",
      "execution_count": 8,
      "metadata": {},
      "outputs": [
        {
          "data": {
            "text/plain": [
              "array([[619, 'France', 'Female', ..., 1, 1, 101348.88],\n",
              "       [608, 'Spain', 'Female', ..., 0, 1, 112542.58],\n",
              "       [502, 'France', 'Female', ..., 1, 0, 113931.57],\n",
              "       ...,\n",
              "       [709, 'France', 'Female', ..., 0, 1, 42085.58],\n",
              "       [772, 'Germany', 'Male', ..., 1, 0, 92888.52],\n",
              "       [792, 'France', 'Female', ..., 1, 0, 38190.78]], dtype=object)"
            ]
          },
          "execution_count": 8,
          "metadata": {},
          "output_type": "execute_result"
        }
      ],
      "source": [
        "X"
      ]
    },
    {
      "cell_type": "code",
      "execution_count": 9,
      "metadata": {},
      "outputs": [
        {
          "data": {
            "text/plain": [
              "array([1, 0, 1, ..., 1, 1, 0], dtype=int64)"
            ]
          },
          "execution_count": 9,
          "metadata": {},
          "output_type": "execute_result"
        }
      ],
      "source": [
        "y"
      ]
    },
    {
      "cell_type": "markdown",
      "metadata": {},
      "source": [
        "### Encoding Categorical Data"
      ]
    },
    {
      "cell_type": "markdown",
      "metadata": {},
      "source": [
        "Categorical data needs to be encoded into numerical form for machine learning algorithms because these algorithms typically require numerical input. Encoding ensures consistency, improves feature representation, and facilitates preprocessing. Common methods include ordinal encoding, one-hot encoding, label encoding and embedding, each suited to different types of categorical data and machine learning tasks."
      ]
    },
    {
      "cell_type": "markdown",
      "metadata": {},
      "source": [
        "We will be Label Encoding the \"Gender\" column. Label encoding converts categorical data into numerical form by assigning a unique integer label to each category."
      ]
    },
    {
      "cell_type": "code",
      "execution_count": 10,
      "metadata": {},
      "outputs": [],
      "source": [
        "le = LabelEncoder()\n",
        "\n",
        "X[:, 2] = le.fit_transform(X[:, 2])"
      ]
    },
    {
      "cell_type": "markdown",
      "metadata": {},
      "source": [
        "Now we will be One-Hot Encoding the \"Geography\" column. One-hot encoding is a method used to represent categorical data as binary vectors. "
      ]
    },
    {
      "cell_type": "code",
      "execution_count": 11,
      "metadata": {},
      "outputs": [],
      "source": [
        "ct = ColumnTransformer(transformers=[(\"encoder\", OneHotEncoder(), [1])], remainder=\"passthrough\")\n",
        "\n",
        "X = np.array(ct.fit_transform(X))"
      ]
    },
    {
      "cell_type": "code",
      "execution_count": 12,
      "metadata": {},
      "outputs": [
        {
          "data": {
            "text/plain": [
              "array([[1.0, 0.0, 0.0, ..., 1, 1, 101348.88],\n",
              "       [0.0, 0.0, 1.0, ..., 0, 1, 112542.58],\n",
              "       [1.0, 0.0, 0.0, ..., 1, 0, 113931.57],\n",
              "       ...,\n",
              "       [1.0, 0.0, 0.0, ..., 0, 1, 42085.58],\n",
              "       [0.0, 1.0, 0.0, ..., 1, 0, 92888.52],\n",
              "       [1.0, 0.0, 0.0, ..., 1, 0, 38190.78]], dtype=object)"
            ]
          },
          "execution_count": 12,
          "metadata": {},
          "output_type": "execute_result"
        }
      ],
      "source": [
        "X"
      ]
    },
    {
      "cell_type": "markdown",
      "metadata": {},
      "source": [
        "### Splitting into Training and Validation Sets"
      ]
    },
    {
      "cell_type": "markdown",
      "metadata": {},
      "source": [
        "We split the data into training and test sets. We are going to use a 80:20 split."
      ]
    },
    {
      "cell_type": "code",
      "execution_count": 13,
      "metadata": {},
      "outputs": [],
      "source": [
        "X_train, X_test, y_train, y_test = train_test_split(X, y, test_size=0.2, random_state=24)"
      ]
    },
    {
      "cell_type": "markdown",
      "metadata": {},
      "source": [
        "### Feature Scaling"
      ]
    },
    {
      "cell_type": "markdown",
      "metadata": {},
      "source": [
        "There are two main ways of feature scaling: **Standardization and Normalization**. We will be using Standardization here."
      ]
    },
    {
      "cell_type": "code",
      "execution_count": 14,
      "metadata": {},
      "outputs": [],
      "source": [
        "scaler = StandardScaler()\n",
        "\n",
        "X_train = scaler.fit_transform(X_train)\n",
        "X_test = scaler.transform(X_test)"
      ]
    },
    {
      "cell_type": "markdown",
      "metadata": {},
      "source": [
        "## Building the ANN"
      ]
    },
    {
      "cell_type": "markdown",
      "metadata": {},
      "source": [
        "### Initializing the ANN"
      ]
    },
    {
      "cell_type": "markdown",
      "metadata": {},
      "source": [
        "The Artificial Neural Network is a sequence of layers. Therefore we are going to intialize our model with the `Sequential` class."
      ]
    },
    {
      "cell_type": "code",
      "execution_count": 15,
      "metadata": {},
      "outputs": [],
      "source": [
        "ann = tf.keras.models.Sequential()"
      ]
    },
    {
      "cell_type": "markdown",
      "metadata": {},
      "source": [
        "### Adding the Input Layer and the First Hidden Layer"
      ]
    },
    {
      "cell_type": "markdown",
      "metadata": {},
      "source": [
        "The input layer would have one neuron for each column in our features. In our first hidden layer we want it to have 16 neurons. The activation function we will be using for this layer is the Rectified Linear Unit (ReLU)."
      ]
    },
    {
      "cell_type": "code",
      "execution_count": 16,
      "metadata": {},
      "outputs": [],
      "source": [
        "ann.add(tf.keras.layers.Dense(units=16, activation=\"relu\"))"
      ]
    },
    {
      "cell_type": "markdown",
      "metadata": {},
      "source": [
        "### Adding the Second Hidden Layer"
      ]
    },
    {
      "cell_type": "markdown",
      "metadata": {},
      "source": [
        "We are adding another layer to our model. Another Dense layer with 16 neurons and ReLU as the activation function."
      ]
    },
    {
      "cell_type": "code",
      "execution_count": 17,
      "metadata": {},
      "outputs": [],
      "source": [
        "ann.add(tf.keras.layers.Dense(units=16, activation=\"relu\"))"
      ]
    },
    {
      "cell_type": "markdown",
      "metadata": {},
      "source": [
        "### Adding the Output Layer"
      ]
    },
    {
      "cell_type": "markdown",
      "metadata": {},
      "source": [
        "In the output layer we want just a single neuron with the Sigmoid activation function because we are solving a binary classification problem."
      ]
    },
    {
      "cell_type": "code",
      "execution_count": 18,
      "metadata": {},
      "outputs": [],
      "source": [
        "ann.add(tf.keras.layers.Dense(units=1, activation=\"sigmoid\"))"
      ]
    },
    {
      "cell_type": "markdown",
      "metadata": {},
      "source": [
        "## Training the ANN"
      ]
    },
    {
      "cell_type": "markdown",
      "metadata": {},
      "source": [
        "### Compiling the ANN"
      ]
    },
    {
      "cell_type": "markdown",
      "metadata": {},
      "source": [
        "We are using an **Atom Optimizer** to perform **Stochastic Gradient Descent**. Our **Loss Function** is the **Binary Cross Entropy Loss**. We also using **Accuracy Metrics** because it is a classification problem."
      ]
    },
    {
      "cell_type": "code",
      "execution_count": 19,
      "metadata": {},
      "outputs": [],
      "source": [
        "ann.compile(optimizer=\"adam\", loss=\"binary_crossentropy\", metrics=['accuracy'])"
      ]
    },
    {
      "cell_type": "markdown",
      "metadata": {},
      "source": [
        "### Fitting the ANN on the Training Set"
      ]
    },
    {
      "cell_type": "markdown",
      "metadata": {},
      "source": [
        "Now we can train the model on our training set."
      ]
    },
    {
      "cell_type": "code",
      "execution_count": 20,
      "metadata": {},
      "outputs": [
        {
          "name": "stdout",
          "output_type": "stream",
          "text": [
            "Epoch 1/100\n",
            "250/250 [==============================] - 1s 878us/step - loss: 0.5068 - accuracy: 0.7634\n",
            "Epoch 2/100\n",
            "250/250 [==============================] - 0s 740us/step - loss: 0.4227 - accuracy: 0.8133\n",
            "Epoch 3/100\n",
            "250/250 [==============================] - 0s 805us/step - loss: 0.3975 - accuracy: 0.8324\n",
            "Epoch 4/100\n",
            "250/250 [==============================] - 0s 706us/step - loss: 0.3752 - accuracy: 0.8462\n",
            "Epoch 5/100\n",
            "250/250 [==============================] - 0s 819us/step - loss: 0.3584 - accuracy: 0.8550\n",
            "Epoch 6/100\n",
            "250/250 [==============================] - 0s 711us/step - loss: 0.3489 - accuracy: 0.8566\n",
            "Epoch 7/100\n",
            "250/250 [==============================] - 0s 808us/step - loss: 0.3429 - accuracy: 0.8624\n",
            "Epoch 8/100\n",
            "250/250 [==============================] - 0s 791us/step - loss: 0.3399 - accuracy: 0.8606\n",
            "Epoch 9/100\n",
            "250/250 [==============================] - 0s 743us/step - loss: 0.3371 - accuracy: 0.8619\n",
            "Epoch 10/100\n",
            "250/250 [==============================] - 0s 717us/step - loss: 0.3360 - accuracy: 0.8618\n",
            "Epoch 11/100\n",
            "250/250 [==============================] - 0s 710us/step - loss: 0.3337 - accuracy: 0.8634\n",
            "Epoch 12/100\n",
            "250/250 [==============================] - 0s 748us/step - loss: 0.3327 - accuracy: 0.8627\n",
            "Epoch 13/100\n",
            "250/250 [==============================] - 0s 773us/step - loss: 0.3317 - accuracy: 0.8641\n",
            "Epoch 14/100\n",
            "250/250 [==============================] - 0s 723us/step - loss: 0.3307 - accuracy: 0.8643\n",
            "Epoch 15/100\n",
            "250/250 [==============================] - 0s 729us/step - loss: 0.3304 - accuracy: 0.8643\n",
            "Epoch 16/100\n",
            "250/250 [==============================] - 0s 712us/step - loss: 0.3294 - accuracy: 0.8651\n",
            "Epoch 17/100\n",
            "250/250 [==============================] - 0s 786us/step - loss: 0.3295 - accuracy: 0.8654\n",
            "Epoch 18/100\n",
            "250/250 [==============================] - 0s 725us/step - loss: 0.3280 - accuracy: 0.8646\n",
            "Epoch 19/100\n",
            "250/250 [==============================] - 0s 733us/step - loss: 0.3277 - accuracy: 0.8634\n",
            "Epoch 20/100\n",
            "250/250 [==============================] - 0s 729us/step - loss: 0.3271 - accuracy: 0.8661\n",
            "Epoch 21/100\n",
            "250/250 [==============================] - 0s 720us/step - loss: 0.3268 - accuracy: 0.8665\n",
            "Epoch 22/100\n",
            "250/250 [==============================] - 0s 747us/step - loss: 0.3265 - accuracy: 0.8666\n",
            "Epoch 23/100\n",
            "250/250 [==============================] - 0s 712us/step - loss: 0.3252 - accuracy: 0.8641\n",
            "Epoch 24/100\n",
            "250/250 [==============================] - 0s 718us/step - loss: 0.3252 - accuracy: 0.8656\n",
            "Epoch 25/100\n",
            "250/250 [==============================] - 0s 735us/step - loss: 0.3244 - accuracy: 0.8666\n",
            "Epoch 26/100\n",
            "250/250 [==============================] - 0s 727us/step - loss: 0.3243 - accuracy: 0.8673\n",
            "Epoch 27/100\n",
            "250/250 [==============================] - 0s 728us/step - loss: 0.3239 - accuracy: 0.8659\n",
            "Epoch 28/100\n",
            "250/250 [==============================] - 0s 745us/step - loss: 0.3231 - accuracy: 0.8674\n",
            "Epoch 29/100\n",
            "250/250 [==============================] - 0s 711us/step - loss: 0.3227 - accuracy: 0.8660\n",
            "Epoch 30/100\n",
            "250/250 [==============================] - 0s 727us/step - loss: 0.3229 - accuracy: 0.8683\n",
            "Epoch 31/100\n",
            "250/250 [==============================] - 0s 703us/step - loss: 0.3226 - accuracy: 0.8658\n",
            "Epoch 32/100\n",
            "250/250 [==============================] - 0s 719us/step - loss: 0.3227 - accuracy: 0.8661\n",
            "Epoch 33/100\n",
            "250/250 [==============================] - 0s 723us/step - loss: 0.3215 - accuracy: 0.8669\n",
            "Epoch 34/100\n",
            "250/250 [==============================] - 0s 734us/step - loss: 0.3219 - accuracy: 0.8656\n",
            "Epoch 35/100\n",
            "250/250 [==============================] - 0s 711us/step - loss: 0.3209 - accuracy: 0.8666\n",
            "Epoch 36/100\n",
            "250/250 [==============================] - 0s 717us/step - loss: 0.3209 - accuracy: 0.8681\n",
            "Epoch 37/100\n",
            "250/250 [==============================] - 0s 729us/step - loss: 0.3204 - accuracy: 0.8679\n",
            "Epoch 38/100\n",
            "250/250 [==============================] - 0s 714us/step - loss: 0.3209 - accuracy: 0.8655\n",
            "Epoch 39/100\n",
            "250/250 [==============================] - 0s 761us/step - loss: 0.3199 - accuracy: 0.8664\n",
            "Epoch 40/100\n",
            "250/250 [==============================] - 0s 717us/step - loss: 0.3195 - accuracy: 0.8676\n",
            "Epoch 41/100\n",
            "250/250 [==============================] - 0s 732us/step - loss: 0.3194 - accuracy: 0.8685\n",
            "Epoch 42/100\n",
            "250/250 [==============================] - 0s 737us/step - loss: 0.3197 - accuracy: 0.8652\n",
            "Epoch 43/100\n",
            "250/250 [==============================] - 0s 877us/step - loss: 0.3191 - accuracy: 0.8670\n",
            "Epoch 44/100\n",
            "250/250 [==============================] - 0s 737us/step - loss: 0.3189 - accuracy: 0.8668\n",
            "Epoch 45/100\n",
            "250/250 [==============================] - 0s 715us/step - loss: 0.3189 - accuracy: 0.8680\n",
            "Epoch 46/100\n",
            "250/250 [==============================] - 0s 697us/step - loss: 0.3175 - accuracy: 0.8677\n",
            "Epoch 47/100\n",
            "250/250 [==============================] - 0s 722us/step - loss: 0.3189 - accuracy: 0.8668\n",
            "Epoch 48/100\n",
            "250/250 [==============================] - 0s 739us/step - loss: 0.3184 - accuracy: 0.8670\n",
            "Epoch 49/100\n",
            "250/250 [==============================] - 0s 728us/step - loss: 0.3183 - accuracy: 0.8681\n",
            "Epoch 50/100\n",
            "250/250 [==============================] - 0s 740us/step - loss: 0.3174 - accuracy: 0.8668\n",
            "Epoch 51/100\n",
            "250/250 [==============================] - 0s 727us/step - loss: 0.3172 - accuracy: 0.8679\n",
            "Epoch 52/100\n",
            "250/250 [==============================] - 0s 741us/step - loss: 0.3168 - accuracy: 0.8660\n",
            "Epoch 53/100\n",
            "250/250 [==============================] - 0s 726us/step - loss: 0.3169 - accuracy: 0.8671\n",
            "Epoch 54/100\n",
            "250/250 [==============================] - 0s 721us/step - loss: 0.3168 - accuracy: 0.8685\n",
            "Epoch 55/100\n",
            "250/250 [==============================] - 0s 718us/step - loss: 0.3163 - accuracy: 0.8699\n",
            "Epoch 56/100\n",
            "250/250 [==============================] - 0s 740us/step - loss: 0.3164 - accuracy: 0.8669\n",
            "Epoch 57/100\n",
            "250/250 [==============================] - 0s 731us/step - loss: 0.3159 - accuracy: 0.8679\n",
            "Epoch 58/100\n",
            "250/250 [==============================] - 0s 704us/step - loss: 0.3158 - accuracy: 0.8673\n",
            "Epoch 59/100\n",
            "250/250 [==============================] - 0s 760us/step - loss: 0.3155 - accuracy: 0.8686\n",
            "Epoch 60/100\n",
            "250/250 [==============================] - 0s 742us/step - loss: 0.3157 - accuracy: 0.8679\n",
            "Epoch 61/100\n",
            "250/250 [==============================] - 0s 722us/step - loss: 0.3154 - accuracy: 0.8676\n",
            "Epoch 62/100\n",
            "250/250 [==============================] - 0s 733us/step - loss: 0.3155 - accuracy: 0.8679\n",
            "Epoch 63/100\n",
            "250/250 [==============================] - 0s 744us/step - loss: 0.3156 - accuracy: 0.8680\n",
            "Epoch 64/100\n",
            "250/250 [==============================] - 0s 756us/step - loss: 0.3152 - accuracy: 0.8694\n",
            "Epoch 65/100\n",
            "250/250 [==============================] - 0s 739us/step - loss: 0.3150 - accuracy: 0.8670\n",
            "Epoch 66/100\n",
            "250/250 [==============================] - 0s 717us/step - loss: 0.3153 - accuracy: 0.8683\n",
            "Epoch 67/100\n",
            "250/250 [==============================] - 0s 730us/step - loss: 0.3141 - accuracy: 0.8680\n",
            "Epoch 68/100\n",
            "250/250 [==============================] - 0s 722us/step - loss: 0.3144 - accuracy: 0.8694\n",
            "Epoch 69/100\n",
            "250/250 [==============================] - 0s 724us/step - loss: 0.3141 - accuracy: 0.8683\n",
            "Epoch 70/100\n",
            "250/250 [==============================] - 0s 736us/step - loss: 0.3142 - accuracy: 0.8684\n",
            "Epoch 71/100\n",
            "250/250 [==============================] - 0s 738us/step - loss: 0.3138 - accuracy: 0.8661\n",
            "Epoch 72/100\n",
            "250/250 [==============================] - 0s 726us/step - loss: 0.3137 - accuracy: 0.8685\n",
            "Epoch 73/100\n",
            "250/250 [==============================] - 0s 715us/step - loss: 0.3135 - accuracy: 0.8680\n",
            "Epoch 74/100\n",
            "250/250 [==============================] - 0s 700us/step - loss: 0.3142 - accuracy: 0.8681\n",
            "Epoch 75/100\n",
            "250/250 [==============================] - 0s 722us/step - loss: 0.3140 - accuracy: 0.8668\n",
            "Epoch 76/100\n",
            "250/250 [==============================] - 0s 717us/step - loss: 0.3131 - accuracy: 0.8679\n",
            "Epoch 77/100\n",
            "250/250 [==============================] - 0s 854us/step - loss: 0.3133 - accuracy: 0.8669\n",
            "Epoch 78/100\n",
            "250/250 [==============================] - 0s 704us/step - loss: 0.3131 - accuracy: 0.8690\n",
            "Epoch 79/100\n",
            "250/250 [==============================] - 0s 717us/step - loss: 0.3130 - accuracy: 0.8681\n",
            "Epoch 80/100\n",
            "250/250 [==============================] - 0s 693us/step - loss: 0.3133 - accuracy: 0.8686\n",
            "Epoch 81/100\n",
            "250/250 [==============================] - 0s 722us/step - loss: 0.3131 - accuracy: 0.8691\n",
            "Epoch 82/100\n",
            "250/250 [==============================] - 0s 713us/step - loss: 0.3129 - accuracy: 0.8669\n",
            "Epoch 83/100\n",
            "250/250 [==============================] - 0s 705us/step - loss: 0.3127 - accuracy: 0.8679\n",
            "Epoch 84/100\n",
            "250/250 [==============================] - 0s 691us/step - loss: 0.3132 - accuracy: 0.8683\n",
            "Epoch 85/100\n",
            "250/250 [==============================] - 0s 735us/step - loss: 0.3126 - accuracy: 0.8681\n",
            "Epoch 86/100\n",
            "250/250 [==============================] - 0s 715us/step - loss: 0.3125 - accuracy: 0.8681\n",
            "Epoch 87/100\n",
            "250/250 [==============================] - 0s 689us/step - loss: 0.3119 - accuracy: 0.8685\n",
            "Epoch 88/100\n",
            "250/250 [==============================] - 0s 693us/step - loss: 0.3124 - accuracy: 0.8692\n",
            "Epoch 89/100\n",
            "250/250 [==============================] - 0s 711us/step - loss: 0.3123 - accuracy: 0.8692\n",
            "Epoch 90/100\n",
            "250/250 [==============================] - 0s 689us/step - loss: 0.3115 - accuracy: 0.8696\n",
            "Epoch 91/100\n",
            "250/250 [==============================] - 0s 697us/step - loss: 0.3119 - accuracy: 0.8695\n",
            "Epoch 92/100\n",
            "250/250 [==============================] - 0s 714us/step - loss: 0.3121 - accuracy: 0.8680\n",
            "Epoch 93/100\n",
            "250/250 [==============================] - 0s 734us/step - loss: 0.3112 - accuracy: 0.8687\n",
            "Epoch 94/100\n",
            "250/250 [==============================] - 0s 724us/step - loss: 0.3114 - accuracy: 0.8689\n",
            "Epoch 95/100\n",
            "250/250 [==============================] - 0s 709us/step - loss: 0.3122 - accuracy: 0.8676\n",
            "Epoch 96/100\n",
            "250/250 [==============================] - 0s 720us/step - loss: 0.3116 - accuracy: 0.8683\n",
            "Epoch 97/100\n",
            "250/250 [==============================] - 0s 693us/step - loss: 0.3108 - accuracy: 0.8686\n",
            "Epoch 98/100\n",
            "250/250 [==============================] - 0s 723us/step - loss: 0.3114 - accuracy: 0.8695\n",
            "Epoch 99/100\n",
            "250/250 [==============================] - 0s 724us/step - loss: 0.3113 - accuracy: 0.8680\n",
            "Epoch 100/100\n",
            "250/250 [==============================] - 0s 689us/step - loss: 0.3113 - accuracy: 0.8698\n"
          ]
        },
        {
          "data": {
            "text/plain": [
              "<keras.src.callbacks.History at 0x20847c01610>"
            ]
          },
          "execution_count": 20,
          "metadata": {},
          "output_type": "execute_result"
        }
      ],
      "source": [
        "ann.fit(X_train, y_train, batch_size=32,epochs=100)"
      ]
    },
    {
      "cell_type": "markdown",
      "metadata": {},
      "source": [
        "## Making Predictions and Evaluating the Model"
      ]
    },
    {
      "cell_type": "markdown",
      "metadata": {},
      "source": [
        "### Predicting the Test Results"
      ]
    },
    {
      "cell_type": "markdown",
      "metadata": {},
      "source": [
        "Let us predict the test set and compare it to the actual values. The prediction would give us a value between 0 and 1 where 0 means that the model is certain that a customer will NOT leave the bank and 1 means that the mode is certain that a customer will leave the bank."
      ]
    },
    {
      "cell_type": "code",
      "execution_count": 21,
      "metadata": {},
      "outputs": [
        {
          "name": "stdout",
          "output_type": "stream",
          "text": [
            "63/63 [==============================] - 0s 866us/step\n"
          ]
        }
      ],
      "source": [
        "y_pred = ann.predict(X_test)\n",
        "\n",
        "y_pred = y_pred > 0.5"
      ]
    },
    {
      "cell_type": "code",
      "execution_count": 22,
      "metadata": {},
      "outputs": [
        {
          "data": {
            "text/plain": [
              "array([[0, 1],\n",
              "       [0, 0],\n",
              "       [0, 0],\n",
              "       ...,\n",
              "       [0, 0],\n",
              "       [0, 0],\n",
              "       [0, 0]], dtype=int64)"
            ]
          },
          "execution_count": 22,
          "metadata": {},
          "output_type": "execute_result"
        }
      ],
      "source": [
        "np.concatenate((y_pred.reshape(len(y_pred), 1), y_test.reshape(len(y_test), 1)), 1)"
      ]
    },
    {
      "cell_type": "markdown",
      "metadata": {},
      "source": [
        "### Making the Confusion Matrix"
      ]
    },
    {
      "cell_type": "markdown",
      "metadata": {},
      "source": [
        "The confusion matrix is a table that is often used to evaluate the performance of a classification model. It summarizes the predictions made by a classifier on a set of data for various classes against their actual labels.\n",
        "\n",
        "- True Positive (TP): Instances correctly predicted as belonging to the positive class.\n",
        "- False Positive (FP): Instances incorrectly predicted as belonging to the positive class (actually negative).\n",
        "- True Negative (TN): Instances correctly predicted as belonging to the negative class.\n",
        "- False Negative (FN): Instances incorrectly predicted as belonging to the negative class (actually positive)."
      ]
    },
    {
      "cell_type": "code",
      "execution_count": 23,
      "metadata": {},
      "outputs": [
        {
          "data": {
            "text/plain": [
              "array([[1527,   60],\n",
              "       [ 219,  194]], dtype=int64)"
            ]
          },
          "execution_count": 23,
          "metadata": {},
          "output_type": "execute_result"
        }
      ],
      "source": [
        "cm = confusion_matrix(y_true=y_test, y_pred=y_pred)\n",
        "cm"
      ]
    },
    {
      "cell_type": "markdown",
      "metadata": {},
      "source": [
        "Let us check the accuracy of our model on the test data."
      ]
    },
    {
      "cell_type": "code",
      "execution_count": 24,
      "metadata": {},
      "outputs": [
        {
          "data": {
            "text/plain": [
              "0.8605"
            ]
          },
          "execution_count": 24,
          "metadata": {},
          "output_type": "execute_result"
        }
      ],
      "source": [
        "acc = accuracy_score(y_true=y_test, y_pred=y_pred)\n",
        "acc"
      ]
    }
  ],
  "metadata": {
    "kernelspec": {
      "display_name": ".venv",
      "language": "python",
      "name": "python3"
    },
    "language_info": {
      "codemirror_mode": {
        "name": "ipython",
        "version": 3
      },
      "file_extension": ".py",
      "mimetype": "text/x-python",
      "name": "python",
      "nbconvert_exporter": "python",
      "pygments_lexer": "ipython3",
      "version": "3.11.1"
    }
  },
  "nbformat": 4,
  "nbformat_minor": 2
}